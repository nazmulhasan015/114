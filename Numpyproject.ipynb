{
  "nbformat": 4,
  "nbformat_minor": 0,
  "metadata": {
    "colab": {
      "provenance": [],
      "authorship_tag": "ABX9TyNqAHaB6a4xP4PnUq8YPdnG",
      "include_colab_link": true
    },
    "kernelspec": {
      "name": "python3",
      "display_name": "Python 3"
    },
    "language_info": {
      "name": "python"
    }
  },
  "cells": [
    {
      "cell_type": "markdown",
      "metadata": {
        "id": "view-in-github",
        "colab_type": "text"
      },
      "source": [
        "<a href=\"https://colab.research.google.com/github/nazmulhasan015/114/blob/main/Numpyproject.ipynb\" target=\"_parent\"><img src=\"https://colab.research.google.com/assets/colab-badge.svg\" alt=\"Open In Colab\"/></a>"
      ]
    },
    {
      "cell_type": "code",
      "execution_count": 1,
      "metadata": {
        "colab": {
          "base_uri": "https://localhost:8080/"
        },
        "id": "Nuyvki_IP7Nj",
        "outputId": "91b78950-5fa1-4b63-dbfd-934ceffd2d80"
      },
      "outputs": [
        {
          "output_type": "stream",
          "name": "stdout",
          "text": [
            "NumPy Project\n",
            "1D Array: [1 2 3 4 5]\n",
            "2D Array:\n",
            " [[1 2 3]\n",
            " [4 5 6]]\n",
            "Array of Zeros:\n",
            " [[0. 0. 0.]\n",
            " [0. 0. 0.]]\n",
            "Array of Ones:\n",
            " [[1. 1.]\n",
            " [1. 1.]\n",
            " [1. 1.]]\n",
            "Array with Range: [0 2 4 6 8]\n",
            "Linspace Array: [0.   0.25 0.5  0.75 1.  ]\n",
            "Matrix Product:\n",
            " [[19 22]\n",
            " [43 50]]\n"
          ]
        }
      ],
      "source": [
        "import numpy as np\n",
        "\n",
        "def create_arrays():\n",
        "    # Create a 1D array\n",
        "    array1 = np.array([1, 2, 3, 4, 5])\n",
        "    print(\"1D Array:\", array1)\n",
        "\n",
        "    # Create a 2D array\n",
        "    array2 = np.array([[1, 2, 3], [4, 5, 6]])\n",
        "    print(\"2D Array:\\n\", array2)\n",
        "\n",
        "    # Create an array with zeros\n",
        "    zeros_array = np.zeros((2, 3))\n",
        "    print(\"Array of Zeros:\\n\", zeros_array)\n",
        "\n",
        "    # Create an array with ones\n",
        "    ones_array = np.ones((3, 2))\n",
        "    print(\"Array of Ones:\\n\", ones_array)\n",
        "\n",
        "    # Create an array with a range of values\n",
        "    range_array = np.arange(0, 10, 2)\n",
        "    print(\"Array with Range:\", range_array)\n",
        "\n",
        "    # Create a linspace array\n",
        "    linspace_array = np.linspace(0, 1, 5)\n",
        "    print(\"Linspace Array:\", linspace_array)\n",
        "\n",
        "    # Matrix multiplication\n",
        "    matrix1 = np.array([[1, 2], [3, 4]])\n",
        "    matrix2 = np.array([[5, 6], [7, 8]])\n",
        "    product = np.dot(matrix1, matrix2)\n",
        "    print(\"Matrix Product:\\n\", product)\n",
        "\n",
        "def main():\n",
        "    print(\"NumPy Project\")\n",
        "    create_arrays()\n",
        "\n",
        "if __name__ == \"__main__\":\n",
        "    main()\n"
      ]
    }
  ]
}
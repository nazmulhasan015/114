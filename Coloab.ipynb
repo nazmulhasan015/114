{
  "cells": [
    {
      "cell_type": "markdown",
      "metadata": {
        "id": "view-in-github",
        "colab_type": "text"
      },
      "source": [
        "<a href=\"https://colab.research.google.com/github/nazmulhasan015/114/blob/main/Coloab.ipynb\" target=\"_parent\"><img src=\"https://colab.research.google.com/assets/colab-badge.svg\" alt=\"Open In Colab\"/></a>"
      ]
    },
    {
      "cell_type": "code",
      "execution_count": null,
      "metadata": {
        "colab": {
          "base_uri": "https://localhost:8080/"
        },
        "id": "u_Af8o4UIdxM",
        "outputId": "fe155dad-107a-4f62-ec8c-b6b73b1dd581"
      },
      "outputs": [
        {
          "name": "stdout",
          "output_type": "stream",
          "text": [
            "celcius scale:98\n",
            "farenhiet scale: 208.4\n"
          ]
        }
      ],
      "source": [
        "C=input(\"celcius scale:\")\n",
        "C=float(C)\n",
        "Far=float((C/5)*9+32)\n",
        "print(f\"farenhiet scale: {Far}\")"
      ]
    },
    {
      "cell_type": "markdown",
      "metadata": {
        "id": "k1BEHZ53i4_E"
      },
      "source": []
    },
    {
      "cell_type": "code",
      "execution_count": null,
      "metadata": {
        "colab": {
          "base_uri": "https://localhost:8080/"
        },
        "id": "GnOdN57aPDeh",
        "outputId": "b7486c57-ad82-496b-d39a-a4acca40b17d"
      },
      "outputs": [
        {
          "name": "stdout",
          "output_type": "stream",
          "text": [
            "['banana', 'cherry']\n"
          ]
        }
      ],
      "source": [
        "Fruits= [\"apple\",\"banana\",\"cherry\"]\n",
        "print(Fruits[1:3])"
      ]
    },
    {
      "cell_type": "code",
      "execution_count": null,
      "metadata": {
        "colab": {
          "base_uri": "https://localhost:8080/"
        },
        "id": "2NC-7VZxTAbN",
        "outputId": "9b1bb99f-380d-456f-e6d6-69b0b87bb798"
      },
      "outputs": [
        {
          "name": "stdout",
          "output_type": "stream",
          "text": [
            "['apple', 'banana', 'cherry', 'mango']\n"
          ]
        }
      ],
      "source": [
        "Fruits=[\"apple\",\"banana\",\"cherry\",\"mango\"]\n",
        "print(Fruits)\n",
        "Fruits.remove(\"banana\")"
      ]
    },
    {
      "cell_type": "code",
      "execution_count": null,
      "metadata": {
        "colab": {
          "base_uri": "https://localhost:8080/"
        },
        "id": "GbJ3fwQDUNcH",
        "outputId": "e81022cf-4fc3-4b86-a9e0-9d6e891bd973"
      },
      "outputs": [
        {
          "name": "stdout",
          "output_type": "stream",
          "text": [
            "1\n",
            "3\n",
            "5\n",
            "7\n",
            "9\n"
          ]
        }
      ],
      "source": [
        "for i in range(1,10):\n",
        "  print(i)"
      ]
    },
    {
      "cell_type": "code",
      "execution_count": null,
      "metadata": {
        "colab": {
          "base_uri": "https://localhost:8080/"
        },
        "id": "7dCS83KVWSS6",
        "outputId": "ce3ff06e-cd9e-434e-bb69-318f09a52628"
      },
      "outputs": [
        {
          "name": "stdout",
          "output_type": "stream",
          "text": [
            "['apple', 'banana', 'mango', 'pam', 'jacfruits', 'guava']\n"
          ]
        }
      ],
      "source": [
        "Fruits=[\"apple\",\"banana\",\"mango\",\"pam\",\"jacfruits\",\"guava\"]\n",
        "print(Fruits)"
      ]
    },
    {
      "cell_type": "code",
      "execution_count": null,
      "metadata": {
        "colab": {
          "base_uri": "https://localhost:8080/"
        },
        "id": "rDXNIKwWmxFI",
        "outputId": "d98d6c4b-5dc2-47fd-ab8d-ab5bc89b5cfc"
      },
      "outputs": [
        {
          "name": "stdout",
          "output_type": "stream",
          "text": [
            "['apple', 'banana', 'cherry', 'mango']\n",
            "['apple', 'banana', 'cherry', 'mango']\n",
            "['mango', 'cherry', 'banana', 'apple']\n"
          ]
        }
      ],
      "source": [
        "fruits=[\"apple\",\"banana\",\"cherry\",\"mango\"]\n",
        "print(fruits)\n",
        "fruits.sort()\n",
        "print(fruits)\n",
        "fruits.reverse()\n",
        "print(fruits)"
      ]
    },
    {
      "cell_type": "code",
      "execution_count": null,
      "metadata": {
        "colab": {
          "base_uri": "https://localhost:8080/",
          "height": 106
        },
        "id": "n-bY2x_TLAsB",
        "outputId": "f4e4e61b-617b-4589-d417-172a80adeda8"
      },
      "outputs": [
        {
          "ename": "SyntaxError",
          "evalue": "invalid syntax (<ipython-input-6-0561b34ad69e>, line 7)",
          "output_type": "error",
          "traceback": [
            "\u001b[0;36m  File \u001b[0;32m\"<ipython-input-6-0561b34ad69e>\"\u001b[0;36m, line \u001b[0;32m7\u001b[0m\n\u001b[0;31m    else:\u001b[0m\n\u001b[0m    ^\u001b[0m\n\u001b[0;31mSyntaxError\u001b[0m\u001b[0;31m:\u001b[0m invalid syntax\n"
          ]
        }
      ],
      "source": [
        "fruits=[\"apple\",\"banana\",\"cherry\",\"mango\"]\n",
        "myfruits=input(\"Enter fruit name: \")\n",
        "for fruit in fruits:\n",
        "  if fruit == myfruits:\n",
        "    print(\"Your fruit is in the list...\")\n",
        "    break\n",
        "    else:\n",
        "      print(\"Your fruits doesn't in the list\")\n",
        "      break"
      ]
    },
    {
      "cell_type": "code",
      "execution_count": null,
      "metadata": {
        "colab": {
          "base_uri": "https://localhost:8080/",
          "height": 106
        },
        "id": "ZJTa6o8yUbU5",
        "outputId": "a38ea680-53bc-49b3-d230-6096ed6243ea"
      },
      "outputs": [
        {
          "ename": "SyntaxError",
          "evalue": "invalid syntax (<ipython-input-54-6a225cb4d60b>, line 1)",
          "output_type": "error",
          "traceback": [
            "\u001b[0;36m  File \u001b[0;32m\"<ipython-input-54-6a225cb4d60b>\"\u001b[0;36m, line \u001b[0;32m1\u001b[0m\n\u001b[0;31m    Name=Nazmul Hasan\u001b[0m\n\u001b[0m                ^\u001b[0m\n\u001b[0;31mSyntaxError\u001b[0m\u001b[0;31m:\u001b[0m invalid syntax\n"
          ]
        }
      ],
      "source": [
        "\n",
        "Name=Nazmul Hasan\n",
        "print(\"Name\")\n",
        "age=(\"enter your age\")\n",
        "print(\"age\")\n"
      ]
    },
    {
      "cell_type": "code",
      "execution_count": null,
      "metadata": {
        "colab": {
          "base_uri": "https://localhost:8080/"
        },
        "id": "Oq4VhhqNXR9p",
        "outputId": "e7b7f234-e31f-464b-ef1c-3eb0bcf774ec"
      },
      "outputs": [
        {
          "name": "stdout",
          "output_type": "stream",
          "text": [
            "Hello,Nazmul\n"
          ]
        }
      ],
      "source": [
        "print(\"Hello,Nazmul\")"
      ]
    },
    {
      "cell_type": "code",
      "execution_count": null,
      "metadata": {
        "id": "S7H7whIJXiSg"
      },
      "outputs": [],
      "source": [
        "Q2\n",
        "a=12345\n",
        "b=6789\n"
      ]
    },
    {
      "cell_type": "code",
      "execution_count": null,
      "metadata": {
        "colab": {
          "base_uri": "https://localhost:8080/",
          "height": 176
        },
        "id": "OYb8_5FcXzE_",
        "outputId": "5a58a100-e9d1-4d93-8dac-1ea04a8689db"
      },
      "outputs": [
        {
          "ename": "NameError",
          "evalue": "name 'Q3' is not defined",
          "output_type": "error",
          "traceback": [
            "\u001b[0;31m---------------------------------------------------------------------------\u001b[0m",
            "\u001b[0;31mNameError\u001b[0m                                 Traceback (most recent call last)",
            "\u001b[0;32m<ipython-input-7-4fc348cf843c>\u001b[0m in \u001b[0;36m<cell line: 1>\u001b[0;34m()\u001b[0m\n\u001b[0;32m----> 1\u001b[0;31m \u001b[0mQ3\u001b[0m\u001b[0;34m\u001b[0m\u001b[0;34m\u001b[0m\u001b[0m\n\u001b[0m\u001b[1;32m      2\u001b[0m \u001b[0mcalculate\u001b[0m\u001b[0;34m=\u001b[0m\u001b[0;34m[\u001b[0m\u001b[0;34m(\u001b[0m\u001b[0;36m10\u001b[0m\u001b[0;34m+\u001b[0m\u001b[0;36m20\u001b[0m\u001b[0;34m)\u001b[0m\u001b[0;34m*\u001b[0m\u001b[0;36m30\u001b[0m\u001b[0;34m/\u001b[0m\u001b[0;36m5\u001b[0m\u001b[0;34m]\u001b[0m\u001b[0;34m\u001b[0m\u001b[0;34m\u001b[0m\u001b[0m\n\u001b[1;32m      3\u001b[0m \u001b[0mprint\u001b[0m\u001b[0;34m(\u001b[0m\u001b[0;34m\"calculate\"\u001b[0m\u001b[0;34m)\u001b[0m\u001b[0;34m\u001b[0m\u001b[0;34m\u001b[0m\u001b[0m\n",
            "\u001b[0;31mNameError\u001b[0m: name 'Q3' is not defined"
          ]
        }
      ],
      "source": [
        "Q3\n",
        "calculate=[(10+20)*30/5]\n",
        "print(\"calculate\")"
      ]
    },
    {
      "cell_type": "code",
      "execution_count": null,
      "metadata": {
        "colab": {
          "base_uri": "https://localhost:8080/",
          "height": 106
        },
        "id": "KIYAgshbYL7_",
        "outputId": "fc17987a-bb4f-442c-a624-164e70d52ca2"
      },
      "outputs": [
        {
          "ename": "SyntaxError",
          "evalue": "invalid syntax (<ipython-input-6-320df1a648ad>, line 8)",
          "output_type": "error",
          "traceback": [
            "\u001b[0;36m  File \u001b[0;32m\"<ipython-input-6-320df1a648ad>\"\u001b[0;36m, line \u001b[0;32m8\u001b[0m\n\u001b[0;31m    else:\u001b[0m\n\u001b[0m    ^\u001b[0m\n\u001b[0;31mSyntaxError\u001b[0m\u001b[0;31m:\u001b[0m invalid syntax\n"
          ]
        }
      ],
      "source": [
        "Q6\n",
        "fruits=[\"apple\",\"banana\",\"cherry\",\"mango\"]\n",
        "myfruits=input(\"Enter fruit name: \")\n",
        "for fruit in fruits:\n",
        "  if fruit == myfruits:\n",
        "    print(\"Your fruit is in the list...\")\n",
        "    break\n",
        "    else:\n",
        "      print(\"Your fruits doesn't in the list\")\n",
        "      break"
      ]
    },
    {
      "cell_type": "code",
      "execution_count": null,
      "metadata": {
        "colab": {
          "base_uri": "https://localhost:8080/"
        },
        "id": "zY4xaxwOdx4s",
        "outputId": "e767ab50-789d-4cd3-845a-3bcec14f7093"
      },
      "outputs": [
        {
          "name": "stdout",
          "output_type": "stream",
          "text": [
            "{}\n"
          ]
        }
      ],
      "source": [
        "person={}\n",
        "print(person)"
      ]
    },
    {
      "cell_type": "code",
      "execution_count": null,
      "metadata": {
        "colab": {
          "base_uri": "https://localhost:8080/"
        },
        "id": "eP0QKBele2ue",
        "outputId": "0f7826eb-c877-41e8-bd2b-e219be8d521a"
      },
      "outputs": [
        {
          "name": "stdout",
          "output_type": "stream",
          "text": [
            "{''}\n"
          ]
        }
      ],
      "source": [
        "person={\"\"}\n",
        "print(person)"
      ]
    },
    {
      "cell_type": "code",
      "execution_count": null,
      "metadata": {
        "colab": {
          "base_uri": "https://localhost:8080/"
        },
        "id": "XvYNbq5gi8QQ",
        "outputId": "ad284e3b-2c10-403e-e838-1c07293980de"
      },
      "outputs": [
        {
          "name": "stdout",
          "output_type": "stream",
          "text": [
            "{''}\n"
          ]
        }
      ],
      "source": [
        "person={\"\"}\n",
        "print(person)"
      ]
    },
    {
      "cell_type": "code",
      "execution_count": null,
      "metadata": {
        "colab": {
          "base_uri": "https://localhost:8080/",
          "height": 159
        },
        "id": "ZpvhXa46jZX4",
        "outputId": "56026908-d53f-4c9b-c870-8bb61e08917d"
      },
      "outputs": [
        {
          "ename": "TypeError",
          "evalue": "'str' object is not callable",
          "output_type": "error",
          "traceback": [
            "\u001b[0;31m---------------------------------------------------------------------------\u001b[0m",
            "\u001b[0;31mTypeError\u001b[0m                                 Traceback (most recent call last)",
            "\u001b[0;32m<ipython-input-54-97f3cdc2da36>\u001b[0m in \u001b[0;36m<cell line: 2>\u001b[0;34m()\u001b[0m\n\u001b[1;32m      1\u001b[0m \u001b[0mperson\u001b[0m\u001b[0;34m=\u001b[0m\u001b[0;34m{\u001b[0m\u001b[0;34m\"name\"\u001b[0m\u001b[0;34m:\u001b[0m\u001b[0;34m\"Nazmul\"\u001b[0m\u001b[0;34m,\u001b[0m \u001b[0;34m\"age\"\u001b[0m\u001b[0;34m:\u001b[0m\u001b[0;34m\"22\"\u001b[0m\u001b[0;34m,\u001b[0m \u001b[0;34m\"city\"\u001b[0m\u001b[0;34m:\u001b[0m\u001b[0;34m'Khulna'\u001b[0m\u001b[0;34m}\u001b[0m\u001b[0;34m\u001b[0m\u001b[0;34m\u001b[0m\u001b[0m\n\u001b[0;32m----> 2\u001b[0;31m \u001b[0mprint\u001b[0m\u001b[0;34m(\u001b[0m\u001b[0mperson\u001b[0m\u001b[0;34m)\u001b[0m\u001b[0;34m\u001b[0m\u001b[0;34m\u001b[0m\u001b[0m\n\u001b[0m",
            "\u001b[0;31mTypeError\u001b[0m: 'str' object is not callable"
          ]
        }
      ],
      "source": [
        "person={\"name\":\"Nazmul\", \"age\":\"22\", \"city\":'Khulna'}\n",
        "print(person)"
      ]
    },
    {
      "cell_type": "code",
      "execution_count": null,
      "metadata": {
        "colab": {
          "base_uri": "https://localhost:8080/",
          "height": 106
        },
        "id": "h-ajRiO-uVDW",
        "outputId": "e581d824-52bf-449b-8bb9-c2774053b5f5"
      },
      "outputs": [
        {
          "ename": "IndentationError",
          "evalue": "expected an indented block after 'for' statement on line 2 (<ipython-input-2-b837e322f6bc>, line 3)",
          "output_type": "error",
          "traceback": [
            "\u001b[0;36m  File \u001b[0;32m\"<ipython-input-2-b837e322f6bc>\"\u001b[0;36m, line \u001b[0;32m3\u001b[0m\n\u001b[0;31m    print(key,Student[key])\u001b[0m\n\u001b[0m    ^\u001b[0m\n\u001b[0;31mIndentationError\u001b[0m\u001b[0;31m:\u001b[0m expected an indented block after 'for' statement on line 2\n"
          ]
        }
      ],
      "source": [
        "student={\"name\":\"Nazmul\",\"age\":22,\"major\":\"Physics\"}\n",
        "for key in student:\n",
        "print(key,Student[key])"
      ]
    },
    {
      "cell_type": "code",
      "execution_count": null,
      "metadata": {
        "colab": {
          "base_uri": "https://localhost:8080/"
        },
        "id": "r3EFJpax6cH1",
        "outputId": "f2a0b0c6-54bc-4883-b8b8-59fe03bc283b"
      },
      "outputs": [
        {
          "name": "stdout",
          "output_type": "stream",
          "text": [
            "celcius scale:100\n",
            "farenhiet scale: 212.0\n"
          ]
        }
      ],
      "source": [
        "C=input(\"celcius scale:\")\n",
        "C=float(C)\n",
        "Far=float((C/5)*9+32)\n",
        "print(f\"farenhiet scale: {Far}\")"
      ]
    },
    {
      "cell_type": "code",
      "execution_count": null,
      "metadata": {
        "colab": {
          "base_uri": "https://localhost:8080/"
        },
        "id": "yUi8--9k60ct",
        "outputId": "85dc56f4-9309-48ad-fa5c-a925b651e174"
      },
      "outputs": [
        {
          "name": "stdout",
          "output_type": "stream",
          "text": [
            "Hello, NAZMUL!\n",
            "your age is:22\n"
          ]
        }
      ],
      "source": [
        "\n",
        "print(\"Hello, NAZMUL!\")\n",
        "age=input(\"your age is:\")"
      ]
    },
    {
      "cell_type": "code",
      "execution_count": null,
      "metadata": {
        "colab": {
          "base_uri": "https://localhost:8080/"
        },
        "id": "Om8WZGro8SY8",
        "outputId": "b8a79c20-1c25-4a06-b318-2c9921204498"
      },
      "outputs": [
        {
          "name": "stdout",
          "output_type": "stream",
          "text": [
            "string to integer: 12345\n"
          ]
        }
      ],
      "source": [
        "Q2(1)\n",
        "string_number=\"12345\"\n",
        "integer_number=int(string_number)\n",
        "print(\"string to integer:\", integer_number)"
      ]
    },
    {
      "cell_type": "code",
      "execution_count": null,
      "metadata": {
        "colab": {
          "base_uri": "https://localhost:8080/"
        },
        "id": "UP0luNuUF1ql",
        "outputId": "fd90a0cd-4df5-47a0-8d5b-aed843973b7b"
      },
      "outputs": [
        {
          "name": "stdout",
          "output_type": "stream",
          "text": [
            "integer to string: 12345\n"
          ]
        }
      ],
      "source": [
        "Q2(2)\n",
        "integer_number=12345\n",
        "string_number=str(integer_number)\n",
        "print(\"integer to string:\", string_number)"
      ]
    },
    {
      "cell_type": "code",
      "execution_count": null,
      "metadata": {
        "colab": {
          "base_uri": "https://localhost:8080/"
        },
        "id": "cxws6UzXGJSM",
        "outputId": "ea7a7dc0-ad63-4b8a-ec49-ab3ba869cce5"
      },
      "outputs": [
        {
          "name": "stdout",
          "output_type": "stream",
          "text": [
            "130.0\n"
          ]
        }
      ],
      "source": [
        "Q3\n",
        "a=((10+20*30/5))\n",
        "print(a)"
      ]
    },
    {
      "cell_type": "code",
      "execution_count": null,
      "metadata": {
        "colab": {
          "base_uri": "https://localhost:8080/"
        },
        "id": "82_a5WoOGeMT",
        "outputId": "c516750c-5c53-482a-c785-0aea98634a87"
      },
      "outputs": [
        {
          "name": "stdout",
          "output_type": "stream",
          "text": [
            "Enter a number6\n",
            "Even\n"
          ]
        }
      ],
      "source": [
        "Q4\n",
        "a=input(\"Enter a number\")\n",
        "a=int(a)\n",
        "if a%2==0:\n",
        "  print(\"Even\")\n",
        "else:\n",
        "  print(\"Odd\")"
      ]
    },
    {
      "cell_type": "code",
      "execution_count": null,
      "metadata": {
        "colab": {
          "base_uri": "https://localhost:8080/"
        },
        "id": "aI7XAXeaIAV8",
        "outputId": "54ee652e-bde2-4ef6-ae19-8d2842de07c7"
      },
      "outputs": [
        {
          "name": "stdout",
          "output_type": "stream",
          "text": [
            "Enter a number9\n",
            "Positive\n"
          ]
        }
      ],
      "source": [
        "Q5\n",
        "c=input(\"Enter a number\")\n",
        "c=int(c)\n",
        "if c>0:\n",
        "  print(\"Positive\")\n",
        "elif c<0:\n",
        "  print(\"Negative\")\n",
        "else:\n",
        "  print(\"Zero\")"
      ]
    },
    {
      "cell_type": "code",
      "execution_count": null,
      "metadata": {
        "colab": {
          "base_uri": "https://localhost:8080/"
        },
        "id": "W_NKaY64ISiU",
        "outputId": "7deb693a-d677-47aa-ba89-1c565e880f9f"
      },
      "outputs": [
        {
          "name": "stdout",
          "output_type": "stream",
          "text": [
            "apple\n",
            "banana\n",
            "mango\n",
            "pam\n",
            "jacfruits\n",
            "guava\n"
          ]
        }
      ],
      "source": [
        "Q6\n",
        "Fruits=[\"apple\",\"banana\",\"mango\",\"pam\",\"jacfruits\",\"guava\"]\n",
        "for i in Fruits:\n",
        "  print(i)"
      ]
    },
    {
      "cell_type": "code",
      "execution_count": null,
      "metadata": {
        "colab": {
          "base_uri": "https://localhost:8080/"
        },
        "id": "UljuqbXXIyR7",
        "outputId": "f66a0225-3186-4000-ed00-0f488812f36a"
      },
      "outputs": [
        {
          "name": "stdout",
          "output_type": "stream",
          "text": [
            "[1, 2, 20, 4, 5, 6, 7, 8, 9, 10]\n"
          ]
        }
      ],
      "source": [
        "Q7\n",
        "a=[1,2,3,4,5,6,7,8,9,10]\n",
        "a[2]=20\n",
        "print(a)"
      ]
    },
    {
      "cell_type": "code",
      "execution_count": null,
      "metadata": {
        "colab": {
          "base_uri": "https://localhost:8080/"
        },
        "id": "VWCh7s7lJKAV",
        "outputId": "24775c86-dfdd-4772-abbe-06b5c22002db"
      },
      "outputs": [
        {
          "name": "stdout",
          "output_type": "stream",
          "text": [
            "[2, 4, 6, 8, 10, 12, 14, 16, 18, 20]\n"
          ]
        }
      ],
      "source": [
        "Q8\n",
        "a=[1,2,3,4,5,6,7,8,9,10]\n",
        "b=[num*2 for num in a]\n",
        "print(b)\n"
      ]
    },
    {
      "cell_type": "code",
      "execution_count": null,
      "metadata": {
        "colab": {
          "base_uri": "https://localhost:8080/"
        },
        "id": "ZuDkdP0eKQSc",
        "outputId": "095cfae3-dfbe-47e9-d0d8-641646ea8087"
      },
      "outputs": [
        {
          "data": {
            "text/plain": [
              "15"
            ]
          },
          "execution_count": 50,
          "metadata": {},
          "output_type": "execute_result"
        }
      ],
      "source": [
        "Q9\n",
        "a=(1,2,3,4,5)\n",
        "sum(a)"
      ]
    },
    {
      "cell_type": "code",
      "execution_count": null,
      "metadata": {
        "colab": {
          "base_uri": "https://localhost:8080/"
        },
        "id": "mmA7SoIV9q6t",
        "outputId": "33dc9386-f839-4b31-9e17-af3fee6f3e06"
      },
      "outputs": [
        {
          "name": "stdout",
          "output_type": "stream",
          "text": [
            "13\n",
            "7\n",
            "30\n",
            "3.3333333333333335\n",
            "1\n",
            "1000\n"
          ]
        }
      ],
      "source": [
        "\n",
        "a=10\n",
        "b=3\n",
        "print(a+b)\n",
        "print(a-b)\n",
        "print(a*b)\n",
        "print(a/b)\n",
        "print(a%b)\n",
        "print(a**b)"
      ]
    },
    {
      "cell_type": "code",
      "execution_count": null,
      "metadata": {
        "colab": {
          "base_uri": "https://localhost:8080/"
        },
        "id": "qqK6_vhgAFKc",
        "outputId": "680a234e-27c1-42a8-b25a-347a5b72f314"
      },
      "outputs": [
        {
          "name": "stdout",
          "output_type": "stream",
          "text": [
            "enter first number14\n",
            "inter second number24\n",
            "38\n",
            "-10\n",
            "336\n",
            "0.5833333333333334\n",
            "14\n",
            "3214199700417740936751087616\n"
          ]
        }
      ],
      "source": [
        "A=int(input(\"enter first number\"))\n",
        "B=int(input(\"inter second number\"))\n",
        "print(A+B)\n",
        "print(A-B)\n",
        "print(A*B)\n",
        "print(A/B)\n",
        "print(A%B)\n",
        "print(A**B)"
      ]
    },
    {
      "cell_type": "code",
      "execution_count": null,
      "metadata": {
        "colab": {
          "base_uri": "https://localhost:8080/"
        },
        "id": "d9GhYWImDgXU",
        "outputId": "fa4a1b5a-b00f-4499-930f-8812b992f3cc"
      },
      "outputs": [
        {
          "name": "stdout",
          "output_type": "stream",
          "text": [
            "enter first number5\n",
            "inter second number7\n",
            "enter third number10\n",
            "Greater num: 10\n"
          ]
        }
      ],
      "source": [
        "A=int(input(\"enter first number\"))\n",
        "B=int(input(\"inter second number\"))\n",
        "c=int(input(\"enter third number\"))\n",
        "if A>B and A>C:\n",
        "  print(\"Greater num:\",a)\n",
        "elif B>A and B>C:\n",
        "  print(\"Greater num\"\"b\")\n",
        "elif C>A and C>B:\n",
        "  print(\"Greater num:\",c)\n",
        "else:\n",
        "  print(\"C is largest\")"
      ]
    },
    {
      "cell_type": "code",
      "execution_count": null,
      "metadata": {
        "colab": {
          "base_uri": "https://localhost:8080/"
        },
        "id": "ZNXxzZVZNA5E",
        "outputId": "657c0684-31cf-48b3-85d9-89c467e637df"
      },
      "outputs": [
        {
          "name": "stdout",
          "output_type": "stream",
          "text": [
            "enter first number8\n",
            "inter second number9\n",
            "enter third number11\n",
            "C is largest\n"
          ]
        }
      ],
      "source": [
        "A=int(input(\"enter first number\"))\n",
        "B=int(input(\"inter second number\"))\n",
        "c=int(input(\"enter third number\"))\n",
        "if A>B:\n",
        "  if A>C:\n",
        "    print(\"A is largest\")\n",
        "  else:\n",
        "    print(\"C is largest\")\n",
        "elif B>A:\n",
        "  if B>C:\n",
        "    print(\"B is largest\")\n",
        "  else:\n",
        "    print(\"C is largest\")"
      ]
    },
    {
      "cell_type": "code",
      "execution_count": null,
      "metadata": {
        "colab": {
          "base_uri": "https://localhost:8080/"
        },
        "id": "FG--vLQFQ8Sr",
        "outputId": "5d7b5e8d-3ed0-4215-92dd-27a199a7e137"
      },
      "outputs": [
        {
          "name": "stdout",
          "output_type": "stream",
          "text": [
            "z is Zero\n"
          ]
        }
      ],
      "source": [
        "z=0\n",
        "if z>0:\n",
        "  print(\"z is Positive\")\n",
        "elif z<0:\n",
        "  print(\"z is Negative\")\n",
        "else:\n",
        "  print(\"z is Zero\")"
      ]
    },
    {
      "cell_type": "code",
      "execution_count": null,
      "metadata": {
        "colab": {
          "base_uri": "https://localhost:8080/"
        },
        "id": "sSSqR3SOSLhj",
        "outputId": "b08dd4f4-5790-45af-aa89-0c43b0c7d8ea"
      },
      "outputs": [
        {
          "name": "stdout",
          "output_type": "stream",
          "text": [
            "Mark=90\n",
            "Grade: A\n"
          ]
        }
      ],
      "source": [
        "score=float(input(\"Mark=\"))\n",
        "if 90 <= score <= 100:\n",
        "  grade=(\"A\")\n",
        "elif 80 <= score < 90:\n",
        "  grade=(\"B\")\n",
        "elif 70 <= score < 80:\n",
        "  grade=(\"C\")\n",
        "elif 60 <= score < 70:\n",
        "  grade=(\"D\")\n",
        "else:\n",
        "  grade='F'\n",
        "print(\"Grade:\",grade)"
      ]
    },
    {
      "cell_type": "code",
      "execution_count": null,
      "metadata": {
        "id": "BdIRLXdSYJxz"
      },
      "outputs": [],
      "source": [
        "score=float(input(\"Mark=\"))\n",
        "if 90 <= score <= 100:\n",
        "  grade=(\"A\")\n",
        "elif 80 <= score < 90:\n",
        "  grade=(\"B\")\n",
        "elif 70 <= score < 80:\n",
        "  grade=(\"C\")\n",
        "elif 60 <= score < 70:\n",
        "  grade=(\"D\")\n",
        "else:\n",
        "  grade='F'\n",
        "  print(\"Grade:\",grade)"
      ]
    },
    {
      "cell_type": "code",
      "execution_count": null,
      "metadata": {
        "colab": {
          "base_uri": "https://localhost:8080/"
        },
        "id": "kMh0qPKbcEI6",
        "outputId": "627903b5-9f13-4379-9a67-46c2a84aee37"
      },
      "outputs": [
        {
          "name": "stdout",
          "output_type": "stream",
          "text": [
            "job done\n"
          ]
        }
      ],
      "source": [
        "a=-10\n",
        "if a>0:\n",
        "  print(\" a is positive\")\n",
        "  print(\"job done\")\n",
        "\n",
        "if a>0:\n",
        "  print(\" a is positive\")\n",
        "print(\"job done\")"
      ]
    },
    {
      "cell_type": "code",
      "execution_count": null,
      "metadata": {
        "colab": {
          "base_uri": "https://localhost:8080/"
        },
        "id": "bvEqffUfeLjS",
        "outputId": "171a0858-6612-4e6d-bb34-87476e2cab64"
      },
      "outputs": [
        {
          "name": "stdout",
          "output_type": "stream",
          "text": [
            "1\n",
            "2\n",
            "3\n",
            "4\n",
            "5\n"
          ]
        }
      ],
      "source": [
        "i=1\n",
        "while i<=5:\n",
        "  print(i)\n",
        "  i +=1"
      ]
    },
    {
      "cell_type": "code",
      "execution_count": null,
      "metadata": {
        "colab": {
          "base_uri": "https://localhost:8080/"
        },
        "id": "sA_5DX8GhxmD",
        "outputId": "0b53f093-65c5-49b8-9cb4-9fa7e84c23f0"
      },
      "outputs": [
        {
          "name": "stdout",
          "output_type": "stream",
          "text": [
            "Enter password:456\n",
            "Enter password:secret\n",
            "Access granted\n"
          ]
        }
      ],
      "source": [
        "password=\"123\"\n",
        "while password!=\"secret\":\n",
        "  password=input(\"Enter password:\")\n",
        "print(\"Access granted\")\n"
      ]
    },
    {
      "cell_type": "code",
      "execution_count": null,
      "metadata": {
        "colab": {
          "base_uri": "https://localhost:8080/"
        },
        "id": "1ELWMrW3Rp5Q",
        "outputId": "9758adc3-4193-4263-c7d3-3123feef7db9"
      },
      "outputs": [
        {
          "name": "stdout",
          "output_type": "stream",
          "text": [
            "8\n"
          ]
        }
      ],
      "source": [
        "def add(a,b):\n",
        "  return a+b\n",
        "result=add(5,3)\n",
        "print(result)"
      ]
    },
    {
      "cell_type": "code",
      "execution_count": null,
      "metadata": {
        "colab": {
          "base_uri": "https://localhost:8080/"
        },
        "id": "rs1lc5jzTBiu",
        "outputId": "e9c0ee17-5113-48d5-bb2a-dbb77b30997c"
      },
      "outputs": [
        {
          "name": "stdout",
          "output_type": "stream",
          "text": [
            "[2, 4, 6]\n"
          ]
        }
      ],
      "source": [
        "evens=list(filter(lambda x:x%2==0,[1,2,3,4,5,6]))\n",
        "print(evens)"
      ]
    },
    {
      "cell_type": "code",
      "execution_count": null,
      "metadata": {
        "colab": {
          "base_uri": "https://localhost:8080/"
        },
        "id": "G2N4fKyvUtPk",
        "outputId": "69c09773-6d0a-4af1-8c3e-73a4fa93e66a"
      },
      "outputs": [
        {
          "name": "stdout",
          "output_type": "stream",
          "text": [
            "Hello Nazmul\n",
            "Hello Tanni\n"
          ]
        }
      ],
      "source": [
        "def great(name=\"Nazmul\"):\n",
        "  print(\"Hello\",name)\n",
        "great()\n",
        "great(\"Tanni\")"
      ]
    },
    {
      "cell_type": "code",
      "execution_count": null,
      "metadata": {
        "colab": {
          "base_uri": "https://localhost:8080/"
        },
        "id": "KmvTXSRTVXU8",
        "outputId": "192f23b5-6e0a-42ca-ccbc-0acb7ba6ef5a"
      },
      "outputs": [
        {
          "name": "stdout",
          "output_type": "stream",
          "text": [
            "8\n"
          ]
        }
      ],
      "source": [
        "def add(x,y):\n",
        "  return x+y\n",
        "result=add(5,3)\n",
        "print(result)"
      ]
    },
    {
      "cell_type": "code",
      "execution_count": null,
      "metadata": {
        "colab": {
          "base_uri": "https://localhost:8080/"
        },
        "id": "c1xbxfxbWKzr",
        "outputId": "8bd92f0b-ace3-4953-e2b7-067e5bba0628"
      },
      "outputs": [
        {
          "name": "stdout",
          "output_type": "stream",
          "text": [
            "12\n",
            "14\n"
          ]
        }
      ],
      "source": [
        "def add(x,y=0):\n",
        "  return x+y\n",
        "z=add(5,7)\n",
        "print(z)\n",
        "z=add(6,8)\n",
        "print(z)"
      ]
    },
    {
      "cell_type": "code",
      "execution_count": null,
      "metadata": {
        "colab": {
          "base_uri": "https://localhost:8080/"
        },
        "id": "JWs1rzz4aVC_",
        "outputId": "92000db0-41b5-4127-f888-d79c1317b40a"
      },
      "outputs": [
        {
          "name": "stdout",
          "output_type": "stream",
          "text": [
            "1381\n"
          ]
        }
      ],
      "source": [
        "def add_func(*args):\n",
        "  return sum(args)\n",
        "print(add_func(35,62,63,58,78,45,75,485,45,47,58,47,48,45,47,65,12,66))"
      ]
    },
    {
      "cell_type": "code",
      "execution_count": null,
      "metadata": {
        "colab": {
          "base_uri": "https://localhost:8080/"
        },
        "id": "ydpLKWKqcBxO",
        "outputId": "44eb157a-26c5-44c8-98e6-0aeaa202b2f6"
      },
      "outputs": [
        {
          "name": "stdout",
          "output_type": "stream",
          "text": [
            "name: Nazmul\n",
            "age: 22\n",
            "city: Khulna\n"
          ]
        }
      ],
      "source": [
        "def display_info(**kwargs):\n",
        "  for key,value in kwargs.items():\n",
        "    print(f\"{key}: {value}\")\n",
        "display_info(name=\"Nazmul\",age=22,city=\"Khulna\")"
      ]
    },
    {
      "cell_type": "code",
      "execution_count": null,
      "metadata": {
        "colab": {
          "base_uri": "https://localhost:8080/"
        },
        "id": "xY2ALWNUdytL",
        "outputId": "d3ffdf63-c3cd-43fe-db3a-140eb626d2e4"
      },
      "outputs": [
        {
          "name": "stdout",
          "output_type": "stream",
          "text": [
            "printing using loop\n",
            "Hello\n",
            "Welcome\n",
            "to\n",
            "GeeksforGeeks\n",
            "printing one by one\n",
            "Hello\n",
            "Welcome\n"
          ]
        }
      ],
      "source": [
        "def myFun(*argv):\n",
        "  print(\"printing using loop\")\n",
        "  for arg in argv:\n",
        "    print(arg)\n",
        "  print(\"printing one by one\")\n",
        "  print(argv[0])\n",
        "  print(argv[1])\n",
        "myFun('Hello', 'Welcome', 'to','GeeksforGeeks')"
      ]
    },
    {
      "cell_type": "code",
      "execution_count": null,
      "metadata": {
        "colab": {
          "base_uri": "https://localhost:8080/"
        },
        "id": "BuWeg4YNhFuo",
        "outputId": "d322c9fd-ea5a-4feb-81f0-07dba6b983fa"
      },
      "outputs": [
        {
          "name": "stdout",
          "output_type": "stream",
          "text": [
            "first argument : Hello\n",
            "Next argument through *argv : Welcome\n",
            "Next argument through *argv : to\n",
            "Next argument through *argv : GeeksforGeeks\n"
          ]
        }
      ],
      "source": [
        "def myFun(arg1, *argv):\n",
        "  print(\"first argument :\", arg1)\n",
        "  for arg in argv:\n",
        "    print(\"Next argument through *argv :\", arg)\n",
        "myFun('Hello', 'Welcome', 'to', 'GeeksforGeeks')"
      ]
    },
    {
      "cell_type": "code",
      "execution_count": null,
      "metadata": {
        "colab": {
          "base_uri": "https://localhost:8080/"
        },
        "id": "fmLKqDm6iL33",
        "outputId": "a98529f0-8c18-4de0-b1c7-0d8766f4ea2e"
      },
      "outputs": [
        {
          "name": "stdout",
          "output_type": "stream",
          "text": [
            "args: ('geeks', 'for', 'geeks')\n",
            "kwargs: {'first': 'geeks', 'mid': 'for', 'last': 'geeks'}\n"
          ]
        }
      ],
      "source": [
        "def myFun(*args,**kwargs):\n",
        "  print(\"args:\", args)\n",
        "  print(\"kwargs:\", kwargs)\n",
        "myFun(\"geeks\", \"for\",\"geeks\", first=\"geeks\", mid=\"for\", last=\"geeks\")"
      ]
    },
    {
      "cell_type": "code",
      "execution_count": null,
      "metadata": {
        "colab": {
          "base_uri": "https://localhost:8080/"
        },
        "id": "pxjT9nqIkdD2",
        "outputId": "f1dd3add-93f1-4865-941b-804e0ddcfc30"
      },
      "outputs": [
        {
          "name": "stdout",
          "output_type": "stream",
          "text": [
            "This is the first argument  geeks\n",
            "args: ('for', 'geeks')\n",
            "kwargs: {'first': 'geeks', 'mid': 'for', 'last': 'geeks'}\n"
          ]
        }
      ],
      "source": [
        "def myFun(arg1,*args,**kwargs):\n",
        "  print(\"This is the first argument \", arg1)\n",
        "  print(\"args:\", args)\n",
        "  print(\"kwargs:\", kwargs)\n",
        "myFun(\"geeks\", \"for\",\"geeks\", first=\"geeks\", mid=\"for\", last=\"geeks\")"
      ]
    },
    {
      "cell_type": "code",
      "execution_count": null,
      "metadata": {
        "colab": {
          "base_uri": "https://localhost:8080/"
        },
        "id": "yjoLVQHlmTAq",
        "outputId": "9093d772-003c-4575-a046-b811a4ce8409"
      },
      "outputs": [
        {
          "name": "stdout",
          "output_type": "stream",
          "text": [
            "4\n"
          ]
        }
      ],
      "source": [
        "def add(a:int,b:int)->int:\n",
        "  return a+b\n",
        "print(add(1,3))"
      ]
    },
    {
      "cell_type": "code",
      "execution_count": null,
      "metadata": {
        "colab": {
          "base_uri": "https://localhost:8080/"
        },
        "id": "vYazpKyVnJDD",
        "outputId": "b4118d06-2547-4093-a919-ae48f576ce63"
      },
      "outputs": [
        {
          "name": "stdout",
          "output_type": "stream",
          "text": [
            "Hello from outer function\n",
            "Hello from inner function\n"
          ]
        }
      ],
      "source": [
        "def outer():#outer function\n",
        "    print(\"Hello from outer function\")\n",
        "    def nested():#inner function\n",
        "        print(\"Hello from inner function\")\n",
        "    nested()\n",
        "# Hello from outer function\n",
        "# Hello from inner function\n",
        "outer()"
      ]
    },
    {
      "cell_type": "code",
      "execution_count": null,
      "metadata": {
        "colab": {
          "base_uri": "https://localhost:8080/"
        },
        "id": "TXUYnXYpoyOJ",
        "outputId": "86e7faed-6996-4a25-889f-409462d4b20a"
      },
      "outputs": [
        {
          "name": "stdout",
          "output_type": "stream",
          "text": [
            "Hello from outer function\n",
            "Hello again from outer function\n",
            "Hello from inner function\n"
          ]
        }
      ],
      "source": [
        "def outer():#outer function\n",
        "    print(\"Hello from outer function\")\n",
        "    def nested():#inner function\n",
        "        print(\"Hello from inner function\")\n",
        "    print(\"Hello again from outer function\")\n",
        "    nested()\n",
        "# Hello from outer function\n",
        "# Hello from inner function\n",
        "outer()"
      ]
    },
    {
      "cell_type": "code",
      "execution_count": null,
      "metadata": {
        "colab": {
          "base_uri": "https://localhost:8080/",
          "height": 106
        },
        "id": "px7z7_KxxYeJ",
        "outputId": "39ff8af3-63af-4f07-d16c-9e936774bfdc"
      },
      "outputs": [
        {
          "ename": "SyntaxError",
          "evalue": "invalid syntax (<ipython-input-61-73f54ef1d19c>, line 3)",
          "output_type": "error",
          "traceback": [
            "\u001b[0;36m  File \u001b[0;32m\"<ipython-input-61-73f54ef1d19c>\"\u001b[0;36m, line \u001b[0;32m3\u001b[0m\n\u001b[0;31m    txt local=\"Hello\" # Local variable\u001b[0m\n\u001b[0m        ^\u001b[0m\n\u001b[0;31mSyntaxError\u001b[0m\u001b[0;31m:\u001b[0m invalid syntax\n"
          ]
        }
      ],
      "source": [
        "txt_global= \"Hello global\"\n",
        "def outer(msg):\n",
        "  txt local=\"Hello\" # Local variable\n",
        "\n",
        "print(txt global) #calling a global variable\n",
        "print(txt local) #calling a local variable"
      ]
    },
    {
      "cell_type": "code",
      "execution_count": null,
      "metadata": {
        "colab": {
          "base_uri": "https://localhost:8080/"
        },
        "id": "L6VDlQrry5-n",
        "outputId": "ff332657-1046-45ac-fcfa-0a2c715a2b0d"
      },
      "outputs": [
        {
          "name": "stdout",
          "output_type": "stream",
          "text": [
            "Hello\n"
          ]
        }
      ],
      "source": [
        "def outer(msg):\n",
        "  def inner():\n",
        "    print(msg)\n",
        "  inner ()\n",
        "\n",
        "outer(\"Hello\")"
      ]
    },
    {
      "cell_type": "code",
      "execution_count": null,
      "metadata": {
        "colab": {
          "base_uri": "https://localhost:8080/"
        },
        "id": "N1ssnlMc0HgF",
        "outputId": "2ee10e87-12a5-4bcf-d6ad-7dd511d52830"
      },
      "outputs": [
        {
          "name": "stdout",
          "output_type": "stream",
          "text": [
            "15\n"
          ]
        }
      ],
      "source": [
        "def outer (x):\n",
        "  def inner(y):\n",
        "    return x+y\n",
        "  return inner\n",
        "\n",
        "add_five = outer(5)\n",
        "print(add_five(10))"
      ]
    },
    {
      "cell_type": "code",
      "execution_count": null,
      "metadata": {
        "colab": {
          "base_uri": "https://localhost:8080/"
        },
        "id": "op_QO49b2MWL",
        "outputId": "e7b427a8-675a-4684-90de-91f21fdf67b8"
      },
      "outputs": [
        {
          "name": "stdout",
          "output_type": "stream",
          "text": [
            "27\n",
            "15\n"
          ]
        }
      ],
      "source": [
        "def make_multiplier_of(n):\n",
        "  def multiplier(x):\n",
        "    return x*n\n",
        "  return multiplier\n",
        "times3=make_multiplier_of(3)\n",
        "times5=make_multiplier_of(5)\n",
        "print(times3(9))\n",
        "print(times5(3))"
      ]
    },
    {
      "cell_type": "code",
      "execution_count": null,
      "metadata": {
        "colab": {
          "base_uri": "https://localhost:8080/"
        },
        "id": "9FdGQ-Ua3MWa",
        "outputId": "05054aea-3613-4ec9-b1fb-bfc66f65ae13"
      },
      "outputs": [
        {
          "name": "stdout",
          "output_type": "stream",
          "text": [
            "120\n"
          ]
        }
      ],
      "source": [
        "def factorial(n):\n",
        "  if n==1:\n",
        "    return 1\n",
        "  else:\n",
        "    return n*factorial(n-1)\n",
        "print(factorial(5))"
      ]
    },
    {
      "cell_type": "code",
      "execution_count": null,
      "metadata": {
        "colab": {
          "base_uri": "https://localhost:8080/"
        },
        "id": "B8lw1ZtE6KQ3",
        "outputId": "eeca8738-3893-43a6-e287-c25ae386f332"
      },
      "outputs": [
        {
          "name": "stdout",
          "output_type": "stream",
          "text": [
            "20\n"
          ]
        }
      ],
      "source": [
        "def apply_twice(func,arg):\n",
        "  return func(func(arg))\n",
        "def add(x):\n",
        "  return x+5\n",
        "print(apply_twice(add_five,10))"
      ]
    },
    {
      "cell_type": "code",
      "execution_count": null,
      "metadata": {
        "colab": {
          "base_uri": "https://localhost:8080/"
        },
        "id": "zOmXDOLkbVXf",
        "outputId": "5bcb8c3d-c9ea-47c9-cdf0-d79d7febd810"
      },
      "outputs": [
        {
          "name": "stdout",
          "output_type": "stream",
          "text": [
            "apple\n",
            "2\n",
            "3.14\n",
            "guava\n",
            "3\n",
            "True\n",
            "['banana', 'cherry', 'mango']\n",
            "[1, 2]\n",
            "['apple', 3.14, True]\n",
            "['mango', 'guava']\n",
            "['apple', 'banana', 'cherry', 'mango', 'guava', 'orange']\n",
            "['apple', 'blueberry', 'banana', 'cherry', 'mango', 'guava', 'orange']\n",
            "['apple', 'blueberry', 'banana', 'cherry', 'mango', 'guava', 'orange', 'watermilon', 'lichi']\n",
            "['apple', 'blueberry', 'banana', 'cherry', 'mango', 'guava', 'orange', 'watermilon', 'lichi', 1, 2, 3, 4, 5]\n",
            "[1, 2, 3, 4, 5]\n",
            "[1, 2, 3, 4, 5, 'apple', 'blueberry', 'banana', 'cherry', 'mango', 'guava', 'orange', 'watermilon', 'lichi', 1, 2, 3, 4, 5]\n",
            "['apple', 'blueberry', 'banana', 'cherry', 'mango', 'orange', 'watermilon', 'lichi', 1, 2, 3, 4, 5]\n",
            "['apple', 'blueberry', 'banana', 'mango', 'orange', 'watermilon', 'lichi', 1, 2, 3, 4, 5]\n",
            "['apple', 'blueberry', 'banana', 'mango', 'orange', 'watermilon', 'lichi', 1, 2, 3, 4, 5]\n",
            "['apple', 'blueberry', 'banana', 'mango', 'orange', 'watermilon', 'lichi', 1, 2, 3, 4, 5, 'another fruit']\n",
            "['apple', 'blueberry', 'banana', 'mango', 'orange', 'watermilon', 'lichi', 1, 2, 3, 4, 5, 'another fruit']\n"
          ]
        }
      ],
      "source": [
        "fruits=['apple','banana','cherry','mango','guava']\n",
        "numbers=[1,2,3,4,5]\n",
        "mixed_list=[1,'apple',3.14,True]\n",
        "print(fruits[0])\n",
        "print(numbers[1])\n",
        "print(mixed_list[2])\n",
        "print(fruits[-1])\n",
        "print(numbers[-3])\n",
        "print(mixed_list[-1])\n",
        "print(fruits[1:4])\n",
        "print(numbers[:2])\n",
        "print(mixed_list[1:])\n",
        "print(fruits[-2:])\n",
        "fruits.append('orange')\n",
        "print(fruits)\n",
        "fruits.insert(1,\"blueberry\")\n",
        "print(fruits)\n",
        "fruits.extend(['watermilon','lichi'])\n",
        "print(fruits)\n",
        "fruits.extend(numbers)\n",
        "print(fruits)\n",
        "print(numbers)\n",
        "numbers.extend(fruits)\n",
        "print(numbers)\n",
        "fruits.remove('guava')\n",
        "print(fruits)\n",
        "fruits.pop(3)\n",
        "print(fruits)\n",
        "fruits_copy=fruits.copy()\n",
        "print(fruits_copy)\n",
        "fruits_2=fruits\n",
        "fruits.append('another fruit')\n",
        "print(fruits)\n",
        "print(fruits_2)"
      ]
    },
    {
      "cell_type": "markdown",
      "metadata": {
        "id": "Pn4RAqxB6g2t"
      },
      "source": [
        "sort dile 1st dik theke asbe r reverse dile ulto dik theke asbe"
      ]
    },
    {
      "cell_type": "code",
      "execution_count": null,
      "metadata": {
        "colab": {
          "base_uri": "https://localhost:8080/"
        },
        "id": "40RGht5rI4zA",
        "outputId": "9ce27868-cf02-4e23-e617-1380c7e2c90f"
      },
      "outputs": [
        {
          "name": "stdout",
          "output_type": "stream",
          "text": [
            "[5, 4, 3, 2, 1]\n",
            "[1, 2, 3, 4, 5]\n",
            "[5, 4, 3, 2, 1]\n"
          ]
        }
      ],
      "source": [
        "factrial_list = [1,2,3,4,5]\n",
        "factrial_list.reverse()\n",
        "print(factrial_list)\n",
        "factrial_list.sort()\n",
        "print(factrial_list)\n",
        "factrial_list.sort(reverse=True)\n",
        "print(factrial_list)"
      ]
    },
    {
      "cell_type": "code",
      "execution_count": null,
      "metadata": {
        "colab": {
          "base_uri": "https://localhost:8080/"
        },
        "id": "HeojvfQsaEsG",
        "outputId": "faf70902-e33f-4b18-8332-7975837b04dc"
      },
      "outputs": [
        {
          "name": "stdout",
          "output_type": "stream",
          "text": [
            "0\n",
            "1\n",
            "1\n",
            "2\n",
            "3\n",
            "5\n",
            "8\n",
            "13\n",
            "21\n",
            "34\n",
            "55\n",
            "89\n",
            "144\n",
            "233\n",
            "377\n",
            "610\n",
            "987\n",
            "1597\n",
            "2584\n",
            "4181\n",
            "6765\n",
            "10946\n"
          ]
        }
      ],
      "source": [
        "def fibo(n):\n",
        "  a=0\n",
        "  b=1\n",
        "  print(a)\n",
        "  print(b)\n",
        "  x=0\n",
        "  while x<n:\n",
        "    c=a+b\n",
        "    print(c)\n",
        "    a=b\n",
        "    b=c\n",
        "    x+=1\n",
        "fibo(20)"
      ]
    },
    {
      "cell_type": "code",
      "execution_count": null,
      "metadata": {
        "colab": {
          "base_uri": "https://localhost:8080/"
        },
        "id": "vE9cAqrFdQ0O",
        "outputId": "af0e7030-b18e-439f-9968-af55dcc38b4e"
      },
      "outputs": [
        {
          "name": "stdout",
          "output_type": "stream",
          "text": [
            "0\n",
            "1\n",
            "1\n",
            "2\n",
            "3\n",
            "5\n",
            "8\n",
            "13\n",
            "21\n",
            "34\n",
            "55\n",
            "89\n",
            "144\n",
            "233\n",
            "377\n",
            "610\n",
            "987\n",
            "1597\n",
            "2584\n",
            "4181\n",
            "6765\n",
            "10946\n"
          ]
        }
      ],
      "source": [
        "def fibo(n):\n",
        "  a=0\n",
        "  b=1\n",
        "  print(a)\n",
        "  print(b)\n",
        "  x=0\n",
        "  while x<n:\n",
        "    c=a+b\n",
        "    print(c)\n",
        "    a=b\n",
        "    b=c\n",
        "    x+=1\n",
        "fibo(20)"
      ]
    },
    {
      "cell_type": "code",
      "execution_count": null,
      "metadata": {
        "colab": {
          "base_uri": "https://localhost:8080/"
        },
        "id": "bjm7smCJU1O6",
        "outputId": "b440b574-5ca8-431b-a75a-8383d276d07d"
      },
      "outputs": [
        {
          "name": "stdout",
          "output_type": "stream",
          "text": [
            "0 1 1 2 3 5 8 13 21 34 55 89 144 233 377 610 987 1597 2584 4181 6765 10946 "
          ]
        }
      ],
      "source": [
        "a,b=0,1\n",
        "series_lenght=20\n",
        "print(a,b,end=\" \")\n",
        "for i in range(series_lenght):\n",
        "  c=a+b\n",
        "  print(c, end=\" \")\n",
        "  a=b\n",
        "  b=c"
      ]
    },
    {
      "cell_type": "code",
      "execution_count": null,
      "metadata": {
        "colab": {
          "base_uri": "https://localhost:8080/"
        },
        "id": "rNAp35fwWbdE",
        "outputId": "bd500de3-0b31-4895-923a-fd85570df16c"
      },
      "outputs": [
        {
          "name": "stdout",
          "output_type": "stream",
          "text": [
            "Congrations!Mr. Hasan,you are 22 years old\n"
          ]
        }
      ],
      "source": [
        "  Name=\"Hasan\"\n",
        "  Age=22\n",
        "  txt=f\"Congrations!Mr. {Name},you are {Age} years old\"\n",
        "  print(txt)"
      ]
    },
    {
      "cell_type": "markdown",
      "metadata": {
        "id": "C10GXBeaadvb"
      },
      "source": [
        "new file open rule"
      ]
    },
    {
      "cell_type": "code",
      "execution_count": null,
      "metadata": {
        "colab": {
          "base_uri": "https://localhost:8080/"
        },
        "id": "kbZIuyOQX_ab",
        "outputId": "d767ca7f-a92a-4fd6-ad0c-5200048b8975"
      },
      "outputs": [
        {
          "name": "stdout",
          "output_type": "stream",
          "text": [
            "\n"
          ]
        }
      ],
      "source": [
        "f=open(\"demofile3.txt\",\"w+\")\n",
        "f.write(\"Woo! contents has been deleted\")\n",
        "print(f.read())\n",
        "f.close()"
      ]
    },
    {
      "cell_type": "code",
      "execution_count": null,
      "metadata": {
        "colab": {
          "base_uri": "https://localhost:8080/"
        },
        "id": "LPGTgjgic5eR",
        "outputId": "158aed2d-9b48-417c-c50d-ac097aa6ee45"
      },
      "outputs": [
        {
          "name": "stdout",
          "output_type": "stream",
          "text": [
            "thank you, boss\n",
            " using loop............\n",
            "thank you, boss\n",
            "deleted contents\n"
          ]
        }
      ],
      "source": [
        "f=open(\"new_file.txt\",\"w\")\n",
        "f.write(\"thank you, boss\")\n",
        "f.close()\n",
        "f=open(\"new_file.txt\",\"r\")\n",
        "print(f.read(15))\n",
        "f.close()\n",
        "print(\" using loop............\")\n",
        "f=open(\"new_file.txt\",\"r\")\n",
        "for x in f:\n",
        "  print(x)\n",
        "f.close()\n",
        "\n",
        "print(\"deleted contents\")\n",
        "d=open(\"new_file.txt\",\"w\")\n",
        "d.write(\"Hello, world!\")\n",
        "d.close()\n"
      ]
    },
    {
      "cell_type": "code",
      "execution_count": null,
      "metadata": {
        "colab": {
          "base_uri": "https://localhost:8080/"
        },
        "id": "g0wQOpOIpn2O",
        "outputId": "49d9155f-4347-4daf-89d6-aacba0bf1142"
      },
      "outputs": [
        {
          "name": "stdout",
          "output_type": "stream",
          "text": [
            "thank you, boss\n",
            " using loop............\n",
            "thank you, boss\n",
            "file creation\n"
          ]
        }
      ],
      "source": [
        "f=open(\"new_file.txt\",\"w\")\n",
        "f.write(\"thank you, boss\")\n",
        "f.close()\n",
        "f=open(\"new_file.txt\",\"r\")\n",
        "print(f.read(15))\n",
        "f.close()\n",
        "print(\" using loop............\")\n",
        "f=open(\"new_file.txt\",\"r\")\n",
        "for x in f:\n",
        "  print(x)\n",
        "f.close()\n",
        "\n",
        "print(\"file creation\")\n",
        "f=open(\"demofile4.txt\",\"x\")\n",
        "f.write(\"Newly created file\")\n",
        "f.close()"
      ]
    },
    {
      "cell_type": "code",
      "execution_count": null,
      "metadata": {
        "colab": {
          "base_uri": "https://localhost:8080/"
        },
        "id": "XAIYwy6UwxxI",
        "outputId": "412d2eea-f500-4d21-a699-495bdbbc0b91"
      },
      "outputs": [
        {
          "name": "stdout",
          "output_type": "stream",
          "text": [
            "Newly created file\n"
          ]
        }
      ],
      "source": [
        "try:\n",
        "  with open(\"demofile4.txt\",\"r\") as f:\n",
        "    print(f.read())\n",
        "except:\n",
        "  print(\"Error\")\n",
        "  print(\"File not found\")\n",
        "  print(\"File created\")\n",
        "  with open(\"demofile4.txt\",\"w\") as f:\n",
        "    f.write(\"Hello, world!\")"
      ]
    },
    {
      "cell_type": "code",
      "execution_count": null,
      "metadata": {
        "colab": {
          "base_uri": "https://localhost:8080/"
        },
        "id": "ZjiHIozS0xXa",
        "outputId": "2076f743-3995-40eb-e194-d82bdf51f88d"
      },
      "outputs": [
        {
          "name": "stdout",
          "output_type": "stream",
          "text": [
            "EDGE\n"
          ]
        }
      ],
      "source": [
        "x=\"EDGE\"\n",
        "try:\n",
        "  print(x)\n",
        "except:\n",
        "  print(\"An exception occurred\")\n"
      ]
    },
    {
      "cell_type": "code",
      "execution_count": null,
      "metadata": {
        "id": "jgQ3yZkkAeve"
      },
      "outputs": [],
      "source": [
        "def check_even_odd(num):\n",
        "    if num % 2 == 0:\n",
        "        return f\"{num} is even.\"\n",
        "    else:\n",
        "        return f\"{num} is odd.\""
      ]
    },
    {
      "cell_type": "code",
      "execution_count": null,
      "metadata": {
        "colab": {
          "base_uri": "https://localhost:8080/"
        },
        "id": "3jPBWqvrAzTl",
        "outputId": "c22898d4-e99c-4150-8b51-e97b3cacea24"
      },
      "outputs": [
        {
          "name": "stdout",
          "output_type": "stream",
          "text": [
            "17 is odd.\n"
          ]
        }
      ],
      "source": [
        "number =17\n",
        "result = check_even_odd(number)\n",
        "print(result)\n",
        "\n"
      ]
    },
    {
      "cell_type": "code",
      "execution_count": null,
      "metadata": {
        "colab": {
          "base_uri": "https://localhost:8080/",
          "height": 176
        },
        "id": "JU1XLxQ3CMKS",
        "outputId": "75b3fb16-e37f-42a8-e3a8-0b96cb368042"
      },
      "outputs": [
        {
          "ename": "NameError",
          "evalue": "name 'generate_even_numbers' is not defined",
          "output_type": "error",
          "traceback": [
            "\u001b[0;31m---------------------------------------------------------------------------\u001b[0m",
            "\u001b[0;31mNameError\u001b[0m                                 Traceback (most recent call last)",
            "\u001b[0;32m<ipython-input-14-e15bffdb7062>\u001b[0m in \u001b[0;36m<cell line: 2>\u001b[0;34m()\u001b[0m\n\u001b[1;32m      1\u001b[0m \u001b[0mn\u001b[0m \u001b[0;34m=\u001b[0m \u001b[0;36m10\u001b[0m\u001b[0;34m\u001b[0m\u001b[0;34m\u001b[0m\u001b[0m\n\u001b[0;32m----> 2\u001b[0;31m \u001b[0meven_nums\u001b[0m \u001b[0;34m=\u001b[0m \u001b[0mgenerate_even_numbers\u001b[0m\u001b[0;34m(\u001b[0m\u001b[0mn\u001b[0m\u001b[0;34m)\u001b[0m\u001b[0;34m\u001b[0m\u001b[0;34m\u001b[0m\u001b[0m\n\u001b[0m\u001b[1;32m      3\u001b[0m \u001b[0mprint\u001b[0m\u001b[0;34m(\u001b[0m\u001b[0;34m\"Even numbers up to\"\u001b[0m\u001b[0;34m,\u001b[0m \u001b[0mn\u001b[0m\u001b[0;34m,\u001b[0m \u001b[0;34m\"are:\"\u001b[0m\u001b[0;34m,\u001b[0m \u001b[0meven_nums\u001b[0m\u001b[0;34m)\u001b[0m\u001b[0;34m\u001b[0m\u001b[0;34m\u001b[0m\u001b[0m\n",
            "\u001b[0;31mNameError\u001b[0m: name 'generate_even_numbers' is not defined"
          ]
        }
      ],
      "source": [
        "n = 10\n",
        "even_nums = generate_even_numbers(n)\n",
        "print(\"Even numbers up to\", n, \"are:\", even_nums)"
      ]
    },
    {
      "cell_type": "code",
      "execution_count": null,
      "metadata": {
        "colab": {
          "base_uri": "https://localhost:8080/"
        },
        "id": "_EAWOxP9Chsg",
        "outputId": "0bc27ee6-6c80-424f-cb49-32db5533d3fe"
      },
      "outputs": [
        {
          "name": "stdout",
          "output_type": "stream",
          "text": [
            "Even numbers up to 10 are: [2, 4, 6, 8, 10]\n"
          ]
        }
      ],
      "source": [
        "n = 10\n",
        "even_nums = generate_even_numbers(n)\n",
        "print(\"Even numbers up to\", n, \"are:\", even_nums)"
      ]
    },
    {
      "cell_type": "code",
      "execution_count": null,
      "metadata": {
        "colab": {
          "base_uri": "https://localhost:8080/"
        },
        "id": "fd4jmrV-ELW_",
        "outputId": "30796eaf-bbc1-48a8-a9ac-2ac8b052a03c"
      },
      "outputs": [
        {
          "name": "stdout",
          "output_type": "stream",
          "text": [
            "[1, 3, 5, 7, 9]\n"
          ]
        }
      ],
      "source": [
        "n=10\n",
        "odd_nums=[]\n",
        "for i in range(1,n+1):\n",
        "  if i%2==1:\n",
        "    odd_nums.append(i)\n",
        "print(odd_nums)"
      ]
    },
    {
      "cell_type": "code",
      "execution_count": null,
      "metadata": {
        "colab": {
          "base_uri": "https://localhost:8080/",
          "height": 176
        },
        "id": "sTMYP9fXDPJt",
        "outputId": "4b8796d9-f07a-4ba8-a081-e034a25e278c"
      },
      "outputs": [
        {
          "ename": "NameError",
          "evalue": "name 'generate_odd_numbers' is not defined",
          "output_type": "error",
          "traceback": [
            "\u001b[0;31m---------------------------------------------------------------------------\u001b[0m",
            "\u001b[0;31mNameError\u001b[0m                                 Traceback (most recent call last)",
            "\u001b[0;32m<ipython-input-21-6f5ed1e2f7e3>\u001b[0m in \u001b[0;36m<cell line: 2>\u001b[0;34m()\u001b[0m\n\u001b[1;32m      1\u001b[0m \u001b[0mn\u001b[0m \u001b[0;34m=\u001b[0m \u001b[0;36m10\u001b[0m\u001b[0;34m\u001b[0m\u001b[0;34m\u001b[0m\u001b[0m\n\u001b[0;32m----> 2\u001b[0;31m \u001b[0modd_nums\u001b[0m \u001b[0;34m=\u001b[0m \u001b[0mgenerate_odd_numbers\u001b[0m\u001b[0;34m(\u001b[0m\u001b[0mn\u001b[0m\u001b[0;34m)\u001b[0m\u001b[0;34m\u001b[0m\u001b[0;34m\u001b[0m\u001b[0m\n\u001b[0m\u001b[1;32m      3\u001b[0m \u001b[0mprint\u001b[0m\u001b[0;34m(\u001b[0m\u001b[0;34m\"Odd numbers up to\"\u001b[0m\u001b[0;34m,\u001b[0m \u001b[0mn\u001b[0m\u001b[0;34m,\u001b[0m \u001b[0;34m\"are:\"\u001b[0m\u001b[0;34m,\u001b[0m \u001b[0modd_nums\u001b[0m\u001b[0;34m)\u001b[0m\u001b[0;34m\u001b[0m\u001b[0;34m\u001b[0m\u001b[0m\n",
            "\u001b[0;31mNameError\u001b[0m: name 'generate_odd_numbers' is not defined"
          ]
        }
      ],
      "source": [
        "n = 10\n",
        "odd_nums = generate_odd_numbers(n)\n",
        "print(\"Odd numbers up to\", n, \"are:\", odd_nums)"
      ]
    },
    {
      "cell_type": "code",
      "execution_count": null,
      "metadata": {
        "colab": {
          "base_uri": "https://localhost:8080/"
        },
        "id": "AsICZIKBDYiN",
        "outputId": "a341c764-05d0-405d-89e2-9a00737f7421"
      },
      "outputs": [
        {
          "name": "stdout",
          "output_type": "stream",
          "text": [
            "6 is even.\n"
          ]
        }
      ],
      "source": [
        "def check_even_odd(num):\n",
        "    if num % 2 == 0:\n",
        "        return f\"{num} is even.\"\n",
        "    else:\n",
        "        return f\"{num} is odd.\"\n",
        "number = 6\n",
        "result = check_even_odd(number)\n",
        "print(result)\n"
      ]
    },
    {
      "cell_type": "markdown",
      "metadata": {
        "id": "-B_bT9g9FCNF"
      },
      "source": [
        "even and odd"
      ]
    },
    {
      "cell_type": "code",
      "execution_count": null,
      "metadata": {
        "colab": {
          "base_uri": "https://localhost:8080/"
        },
        "id": "8A5C3bZPE1Ww",
        "outputId": "8b1f639f-d29e-4b51-8ca7-d5d04c2b957f"
      },
      "outputs": [
        {
          "name": "stdout",
          "output_type": "stream",
          "text": [
            "print odd number from 1 to 10\n",
            "1\n",
            "3\n",
            "5\n",
            "7\n",
            "9\n"
          ]
        }
      ],
      "source": [
        "print(\"print odd number from 1 to 10\")\n",
        "i=0\n",
        "while i<10:\n",
        "  i+=1\n",
        "  if i%2==0:\n",
        "    continue\n",
        "  print(i)"
      ]
    },
    {
      "cell_type": "code",
      "execution_count": null,
      "metadata": {
        "colab": {
          "base_uri": "https://localhost:8080/"
        },
        "id": "HNn0JaoKFlAW",
        "outputId": "95e54b7b-214f-449a-d40c-abe3c9c82c94"
      },
      "outputs": [
        {
          "name": "stdout",
          "output_type": "stream",
          "text": [
            "print even number from 1 to 10\n",
            "0\n",
            "2\n",
            "4\n",
            "6\n",
            "8\n",
            "10\n"
          ]
        }
      ],
      "source": [
        "print(\"print even number from 1 to 10\")\n",
        "i=-1\n",
        "while i<10:\n",
        "  i+=1\n",
        "  if i%2==1:\n",
        "    continue\n",
        "  print(i)"
      ]
    },
    {
      "cell_type": "code",
      "execution_count": null,
      "metadata": {
        "colab": {
          "base_uri": "https://localhost:8080/",
          "height": 211
        },
        "id": "QpJiKa4YIcYR",
        "outputId": "c9c837d9-e989-45d3-81e3-cdd831722069"
      },
      "outputs": [
        {
          "ename": "TypeError",
          "evalue": "'str' object is not callable",
          "output_type": "error",
          "traceback": [
            "\u001b[0;31m---------------------------------------------------------------------------\u001b[0m",
            "\u001b[0;31mTypeError\u001b[0m                                 Traceback (most recent call last)",
            "\u001b[0;32m<ipython-input-57-0d5bec7f1f43>\u001b[0m in \u001b[0;36m<cell line: 2>\u001b[0;34m()\u001b[0m\n\u001b[1;32m      1\u001b[0m \u001b[0mi\u001b[0m \u001b[0;34m=\u001b[0m \u001b[0;36m0\u001b[0m\u001b[0;34m\u001b[0m\u001b[0;34m\u001b[0m\u001b[0m\n\u001b[0;32m----> 2\u001b[0;31m \u001b[0mn\u001b[0m\u001b[0;34m=\u001b[0m\u001b[0mint\u001b[0m\u001b[0;34m(\u001b[0m\u001b[0minput\u001b[0m\u001b[0;34m(\u001b[0m\u001b[0;34m\"Enter a number= \"\u001b[0m\u001b[0;34m)\u001b[0m\u001b[0;34m)\u001b[0m\u001b[0;34m\u001b[0m\u001b[0;34m\u001b[0m\u001b[0m\n\u001b[0m\u001b[1;32m      3\u001b[0m \u001b[0;32mwhile\u001b[0m \u001b[0mi\u001b[0m\u001b[0;34m<\u001b[0m \u001b[0mn\u001b[0m\u001b[0;34m:\u001b[0m\u001b[0;34m\u001b[0m\u001b[0;34m\u001b[0m\u001b[0m\n\u001b[1;32m      4\u001b[0m   \u001b[0mi\u001b[0m\u001b[0;34m=\u001b[0m\u001b[0mi\u001b[0m\u001b[0;34m+\u001b[0m\u001b[0;36m1\u001b[0m\u001b[0;34m\u001b[0m\u001b[0;34m\u001b[0m\u001b[0m\n\u001b[1;32m      5\u001b[0m   \u001b[0;32mif\u001b[0m \u001b[0mi\u001b[0m\u001b[0;34m%\u001b[0m\u001b[0;36m2\u001b[0m \u001b[0;34m==\u001b[0m \u001b[0;36m0\u001b[0m\u001b[0;34m:\u001b[0m\u001b[0;34m\u001b[0m\u001b[0;34m\u001b[0m\u001b[0m\n",
            "\u001b[0;31mTypeError\u001b[0m: 'str' object is not callable"
          ]
        }
      ],
      "source": [
        "i = 0\n",
        "n=int(input(\"Enter a number= \"))\n",
        "while i< n:\n",
        "  i=i+1\n",
        "  if i%2 == 0:\n",
        "    continue\n",
        "  print(i, end=\" \")"
      ]
    },
    {
      "cell_type": "code",
      "execution_count": null,
      "metadata": {
        "colab": {
          "base_uri": "https://localhost:8080/",
          "height": 106
        },
        "id": "rVnU5o9jLzB9",
        "outputId": "c5944b18-7a4f-4dbd-9f13-9bdfb48a7216"
      },
      "outputs": [
        {
          "ename": "SyntaxError",
          "evalue": "invalid syntax (<ipython-input-59-d761434e0bf1>, line 6)",
          "output_type": "error",
          "traceback": [
            "\u001b[0;36m  File \u001b[0;32m\"<ipython-input-59-d761434e0bf1>\"\u001b[0;36m, line \u001b[0;32m6\u001b[0m\n\u001b[0;31m    print(\"even\")`\u001b[0m\n\u001b[0m                 ^\u001b[0m\n\u001b[0;31mSyntaxError\u001b[0m\u001b[0;31m:\u001b[0m invalid syntax\n"
          ]
        }
      ],
      "source": [
        "for n in range(1,10):\n",
        "  if n%2==0:\n",
        "    continue\n",
        "  print(n, end=\" \")\n",
        "while\n"
      ]
    },
    {
      "cell_type": "code",
      "execution_count": null,
      "metadata": {
        "colab": {
          "base_uri": "https://localhost:8080/",
          "height": 297
        },
        "id": "8-UzC_MtNIKB",
        "outputId": "7ed086d3-2c54-4ba3-c28d-babeccd7b44f"
      },
      "outputs": [
        {
          "ename": "TypeError",
          "evalue": "'str' object is not callable",
          "output_type": "error",
          "traceback": [
            "\u001b[0;31m---------------------------------------------------------------------------\u001b[0m",
            "\u001b[0;31mTypeError\u001b[0m                                 Traceback (most recent call last)",
            "\u001b[0;32m<ipython-input-69-d1d6a81816ff>\u001b[0m in \u001b[0;36m<cell line: 9>\u001b[0;34m()\u001b[0m\n\u001b[1;32m      7\u001b[0m     \u001b[0mprint\u001b[0m\u001b[0;34m(\u001b[0m\u001b[0mx\u001b[0m\u001b[0;34m,\u001b[0m \u001b[0mend\u001b[0m\u001b[0;34m=\u001b[0m\u001b[0;34m\" \"\u001b[0m\u001b[0;34m)\u001b[0m\u001b[0;34m\u001b[0m\u001b[0;34m\u001b[0m\u001b[0m\n\u001b[1;32m      8\u001b[0m     \u001b[0mn\u001b[0m \u001b[0;34m=\u001b[0m \u001b[0my\u001b[0m\u001b[0;34m\u001b[0m\u001b[0;34m\u001b[0m\u001b[0m\n\u001b[0;32m----> 9\u001b[0;31m \u001b[0mfnReverseNumber\u001b[0m\u001b[0;34m(\u001b[0m\u001b[0;34m)\u001b[0m\u001b[0;34m\u001b[0m\u001b[0;34m\u001b[0m\u001b[0m\n\u001b[0m",
            "\u001b[0;32m<ipython-input-69-d1d6a81816ff>\u001b[0m in \u001b[0;36mfnReverseNumber\u001b[0;34m()\u001b[0m\n\u001b[1;32m      1\u001b[0m \u001b[0;32mdef\u001b[0m \u001b[0mfnReverseNumber\u001b[0m\u001b[0;34m(\u001b[0m\u001b[0;34m)\u001b[0m\u001b[0;34m:\u001b[0m\u001b[0;34m\u001b[0m\u001b[0;34m\u001b[0m\u001b[0m\n\u001b[0;32m----> 2\u001b[0;31m   \u001b[0mn\u001b[0m\u001b[0;34m=\u001b[0m \u001b[0mint\u001b[0m\u001b[0;34m(\u001b[0m\u001b[0minput\u001b[0m\u001b[0;34m(\u001b[0m\u001b[0;34m\"Enter a Number:\"\u001b[0m\u001b[0;34m)\u001b[0m\u001b[0;34m)\u001b[0m\u001b[0;34m\u001b[0m\u001b[0;34m\u001b[0m\u001b[0m\n\u001b[0m\u001b[1;32m      3\u001b[0m   \u001b[0ml\u001b[0m\u001b[0;34m=\u001b[0m \u001b[0mlen\u001b[0m\u001b[0;34m(\u001b[0m\u001b[0mn\u001b[0m\u001b[0;34m)\u001b[0m\u001b[0;34m\u001b[0m\u001b[0;34m\u001b[0m\u001b[0m\n\u001b[1;32m      4\u001b[0m   \u001b[0;32mfor\u001b[0m \u001b[0mi\u001b[0m \u001b[0;32min\u001b[0m \u001b[0mrange\u001b[0m\u001b[0;34m(\u001b[0m\u001b[0ml\u001b[0m\u001b[0;34m)\u001b[0m\u001b[0;34m:\u001b[0m\u001b[0;34m\u001b[0m\u001b[0;34m\u001b[0m\u001b[0m\n\u001b[1;32m      5\u001b[0m     \u001b[0mx\u001b[0m \u001b[0;34m=\u001b[0m \u001b[0mn\u001b[0m\u001b[0;34m%\u001b[0m\u001b[0;36m10\u001b[0m\u001b[0;34m\u001b[0m\u001b[0;34m\u001b[0m\u001b[0m\n",
            "\u001b[0;31mTypeError\u001b[0m: 'str' object is not callable"
          ]
        }
      ],
      "source": [
        "def fnReverseNumber():\n",
        "  n= int(input(\"Enter a Number:\"))\n",
        "  l= len(n)\n",
        "  for i in range(l):\n",
        "    x = n%10\n",
        "    y = int(n/10)\n",
        "    print(x, end=\" \")\n",
        "    n = y\n",
        "fnReverseNumber()"
      ]
    },
    {
      "cell_type": "code",
      "execution_count": null,
      "metadata": {
        "colab": {
          "base_uri": "https://localhost:8080/",
          "height": 297
        },
        "id": "ULLjvpQpP2sv",
        "outputId": "6cb59270-50d4-4693-ce8c-813702c3e2ed"
      },
      "outputs": [
        {
          "ename": "TypeError",
          "evalue": "'str' object is not callable",
          "output_type": "error",
          "traceback": [
            "\u001b[0;31m---------------------------------------------------------------------------\u001b[0m",
            "\u001b[0;31mTypeError\u001b[0m                                 Traceback (most recent call last)",
            "\u001b[0;32m<ipython-input-71-d1d6a81816ff>\u001b[0m in \u001b[0;36m<cell line: 9>\u001b[0;34m()\u001b[0m\n\u001b[1;32m      7\u001b[0m     \u001b[0mprint\u001b[0m\u001b[0;34m(\u001b[0m\u001b[0mx\u001b[0m\u001b[0;34m,\u001b[0m \u001b[0mend\u001b[0m\u001b[0;34m=\u001b[0m\u001b[0;34m\" \"\u001b[0m\u001b[0;34m)\u001b[0m\u001b[0;34m\u001b[0m\u001b[0;34m\u001b[0m\u001b[0m\n\u001b[1;32m      8\u001b[0m     \u001b[0mn\u001b[0m \u001b[0;34m=\u001b[0m \u001b[0my\u001b[0m\u001b[0;34m\u001b[0m\u001b[0;34m\u001b[0m\u001b[0m\n\u001b[0;32m----> 9\u001b[0;31m \u001b[0mfnReverseNumber\u001b[0m\u001b[0;34m(\u001b[0m\u001b[0;34m)\u001b[0m\u001b[0;34m\u001b[0m\u001b[0;34m\u001b[0m\u001b[0m\n\u001b[0m",
            "\u001b[0;32m<ipython-input-71-d1d6a81816ff>\u001b[0m in \u001b[0;36mfnReverseNumber\u001b[0;34m()\u001b[0m\n\u001b[1;32m      1\u001b[0m \u001b[0;32mdef\u001b[0m \u001b[0mfnReverseNumber\u001b[0m\u001b[0;34m(\u001b[0m\u001b[0;34m)\u001b[0m\u001b[0;34m:\u001b[0m\u001b[0;34m\u001b[0m\u001b[0;34m\u001b[0m\u001b[0m\n\u001b[0;32m----> 2\u001b[0;31m   \u001b[0mn\u001b[0m\u001b[0;34m=\u001b[0m \u001b[0mint\u001b[0m\u001b[0;34m(\u001b[0m\u001b[0minput\u001b[0m\u001b[0;34m(\u001b[0m\u001b[0;34m\"Enter a Number:\"\u001b[0m\u001b[0;34m)\u001b[0m\u001b[0;34m)\u001b[0m\u001b[0;34m\u001b[0m\u001b[0;34m\u001b[0m\u001b[0m\n\u001b[0m\u001b[1;32m      3\u001b[0m   \u001b[0ml\u001b[0m\u001b[0;34m=\u001b[0m \u001b[0mlen\u001b[0m\u001b[0;34m(\u001b[0m\u001b[0mn\u001b[0m\u001b[0;34m)\u001b[0m\u001b[0;34m\u001b[0m\u001b[0;34m\u001b[0m\u001b[0m\n\u001b[1;32m      4\u001b[0m   \u001b[0;32mfor\u001b[0m \u001b[0mi\u001b[0m \u001b[0;32min\u001b[0m \u001b[0mrange\u001b[0m\u001b[0;34m(\u001b[0m\u001b[0ml\u001b[0m\u001b[0;34m)\u001b[0m\u001b[0;34m:\u001b[0m\u001b[0;34m\u001b[0m\u001b[0;34m\u001b[0m\u001b[0m\n\u001b[1;32m      5\u001b[0m     \u001b[0mx\u001b[0m \u001b[0;34m=\u001b[0m \u001b[0mn\u001b[0m\u001b[0;34m%\u001b[0m\u001b[0;36m10\u001b[0m\u001b[0;34m\u001b[0m\u001b[0;34m\u001b[0m\u001b[0m\n",
            "\u001b[0;31mTypeError\u001b[0m: 'str' object is not callable"
          ]
        }
      ],
      "source": [
        "def fnReverseNumber():\n",
        "  n= int(input(\"Enter a Number:\"))\n",
        "  l= len(n)\n",
        "  for i in range(l):\n",
        "    x = n%10\n",
        "    y = int(n/10)\n",
        "    print(x, end=\" \")\n",
        "    n = y\n",
        "fnReverseNumber()"
      ]
    },
    {
      "cell_type": "code",
      "execution_count": null,
      "metadata": {
        "colab": {
          "base_uri": "https://localhost:8080/"
        },
        "id": "HFGbzOC5QGuf",
        "outputId": "ed2da6f6-f7b9-45ba-da75-22ae0ecf5844"
      },
      "outputs": [
        {
          "name": "stdout",
          "output_type": "stream",
          "text": [
            "120\n"
          ]
        }
      ],
      "source": [
        "def factorial_iterative(n):\n",
        "    if n < 0:\n",
        "        return None  # Factorial is not defined for negative numbers\n",
        "    result = 1\n",
        "    for i in range(1, n + 1):\n",
        "      result *= i\n",
        "    return result\n",
        "print(factorial_iterative(5))"
      ]
    },
    {
      "cell_type": "code",
      "execution_count": null,
      "metadata": {
        "colab": {
          "base_uri": "https://localhost:8080/",
          "height": 211
        },
        "id": "XN6WVR9cRnKS",
        "outputId": "100aa5b2-1269-4a96-f83a-e75f7beaeae1"
      },
      "outputs": [
        {
          "ename": "TypeError",
          "evalue": "'str' object is not callable",
          "output_type": "error",
          "traceback": [
            "\u001b[0;31m---------------------------------------------------------------------------\u001b[0m",
            "\u001b[0;31mTypeError\u001b[0m                                 Traceback (most recent call last)",
            "\u001b[0;32m<ipython-input-89-b9f56772a862>\u001b[0m in \u001b[0;36m<cell line: 1>\u001b[0;34m()\u001b[0m\n\u001b[0;32m----> 1\u001b[0;31m \u001b[0mn\u001b[0m\u001b[0;34m=\u001b[0m\u001b[0minput\u001b[0m\u001b[0;34m(\u001b[0m \u001b[0;34m)\u001b[0m\u001b[0;34m\u001b[0m\u001b[0;34m\u001b[0m\u001b[0m\n\u001b[0m\u001b[1;32m      2\u001b[0m \u001b[0ma\u001b[0m\u001b[0;34m,\u001b[0m\u001b[0mb\u001b[0m\u001b[0;34m=\u001b[0m\u001b[0;36m0\u001b[0m\u001b[0;34m,\u001b[0m\u001b[0;36m1\u001b[0m\u001b[0;34m\u001b[0m\u001b[0;34m\u001b[0m\u001b[0m\n\u001b[1;32m      3\u001b[0m \u001b[0mprint\u001b[0m\u001b[0;34m(\u001b[0m\u001b[0ma\u001b[0m\u001b[0;34m)\u001b[0m\u001b[0;34m\u001b[0m\u001b[0;34m\u001b[0m\u001b[0m\n\u001b[1;32m      4\u001b[0m \u001b[0;32mfor\u001b[0m \u001b[0mx\u001b[0m \u001b[0;32min\u001b[0m \u001b[0mrange\u001b[0m\u001b[0;34m(\u001b[0m\u001b[0mn\u001b[0m\u001b[0;34m)\u001b[0m\u001b[0;34m:\u001b[0m\u001b[0;34m\u001b[0m\u001b[0;34m\u001b[0m\u001b[0m\n\u001b[1;32m      5\u001b[0m   \u001b[0mc\u001b[0m\u001b[0;34m=\u001b[0m\u001b[0ma\u001b[0m\u001b[0;34m+\u001b[0m\u001b[0mb\u001b[0m\u001b[0;34m\u001b[0m\u001b[0;34m\u001b[0m\u001b[0m\n",
            "\u001b[0;31mTypeError\u001b[0m: 'str' object is not callable"
          ]
        }
      ],
      "source": [
        "n=input( )\n",
        "a,b=0,1\n",
        "print(a)\n",
        "for x in range(n):\n",
        "  c=a+b\n",
        "  print(c)\n",
        "  a=b\n",
        "  b=c"
      ]
    },
    {
      "cell_type": "markdown",
      "metadata": {
        "id": "PpXBADHhchAN"
      },
      "source": [
        "python 3.4 er oper a install kora jai"
      ]
    },
    {
      "cell_type": "code",
      "execution_count": null,
      "metadata": {
        "colab": {
          "base_uri": "https://localhost:8080/"
        },
        "id": "-GsRuUM5cuRo",
        "outputId": "5daca9c0-3956-4f74-eb63-71bf273bc026"
      },
      "outputs": [
        {
          "name": "stdout",
          "output_type": "stream",
          "text": [
            "pip 23.1.2 from /usr/local/lib/python3.10/dist-packages/pip (python 3.10)\n"
          ]
        }
      ],
      "source": [
        "pip--version"
      ]
    },
    {
      "cell_type": "code",
      "execution_count": null,
      "metadata": {
        "colab": {
          "base_uri": "https://localhost:8080/"
        },
        "id": "WjRw0fL3hDgU",
        "outputId": "98cf91ad-a179-4b66-f036-2a0c76d315ea"
      },
      "outputs": [
        {
          "name": "stdout",
          "output_type": "stream",
          "text": [
            "Requirement already satisfied: numpy in /usr/local/lib/python3.10/dist-packages (1.26.4)\n"
          ]
        }
      ],
      "source": [
        "pip install numpy"
      ]
    },
    {
      "cell_type": "code",
      "execution_count": null,
      "metadata": {
        "id": "c-20_Yepkoxq"
      },
      "outputs": [],
      "source": [
        "import numpy as np"
      ]
    },
    {
      "cell_type": "code",
      "execution_count": null,
      "metadata": {
        "colab": {
          "base_uri": "https://localhost:8080/"
        },
        "id": "dUWSyau7lSC6",
        "outputId": "26d3c329-fb3e-421a-9db7-de5db0194898"
      },
      "outputs": [
        {
          "name": "stdout",
          "output_type": "stream",
          "text": [
            "[1 2 3 4 5]\n"
          ]
        }
      ],
      "source": [
        "arr=np.array([1,2,3,4,5])\n",
        "print(arr)"
      ]
    },
    {
      "cell_type": "code",
      "execution_count": null,
      "metadata": {
        "colab": {
          "base_uri": "https://localhost:8080/"
        },
        "id": "bPfiHu-JnH73",
        "outputId": "abec2f9f-c930-44f2-d350-4f9c8ff9ac82"
      },
      "outputs": [
        {
          "name": "stdout",
          "output_type": "stream",
          "text": [
            "[[1 2 3]\n",
            " [4 5 6]\n",
            " [1 4 3]]\n"
          ]
        }
      ],
      "source": [
        "arr_2d=np.array([[1,2,3],[4,5,6],[1,4,3]])\n",
        "print(arr_2d)"
      ]
    },
    {
      "cell_type": "code",
      "execution_count": null,
      "metadata": {
        "colab": {
          "base_uri": "https://localhost:8080/"
        },
        "id": "kq0pNTIAqPKR",
        "outputId": "0ac82671-d3e0-473b-bba3-ccaf4bd3ad96"
      },
      "outputs": [
        {
          "name": "stdout",
          "output_type": "stream",
          "text": [
            "[[1 2 3]\n",
            " [4 5 6]\n",
            " [1 2 3]\n",
            " [4 5 6]]\n"
          ]
        }
      ],
      "source": [
        "arr_3d=np.array([[1,2,3],[4,5,6,],[1,2,3],[4,5,6]])\n",
        "print(arr_3d)"
      ]
    },
    {
      "cell_type": "code",
      "execution_count": null,
      "metadata": {
        "colab": {
          "base_uri": "https://localhost:8080/"
        },
        "id": "7KnMNw5TrShd",
        "outputId": "70a2cd34-473d-46ad-86a2-21da5311150e"
      },
      "outputs": [
        {
          "name": "stdout",
          "output_type": "stream",
          "text": [
            "[[[0. 0. 0.]\n",
            "  [0. 0. 0.]]\n",
            "\n",
            " [[0. 0. 0.]\n",
            "  [0. 0. 0.]]]\n"
          ]
        }
      ],
      "source": [
        "zeros=np.zeros((2,2,3))\n",
        "print(zeros)"
      ]
    },
    {
      "cell_type": "code",
      "execution_count": null,
      "metadata": {
        "colab": {
          "base_uri": "https://localhost:8080/"
        },
        "id": "UA9JHg9Ps66k",
        "outputId": "599bba28-faf1-4d2b-fcbf-e23ae927d840"
      },
      "outputs": [
        {
          "name": "stdout",
          "output_type": "stream",
          "text": [
            "[[[1. 1. 1.]\n",
            "  [1. 1. 1.]]\n",
            "\n",
            " [[1. 1. 1.]\n",
            "  [1. 1. 1.]]]\n"
          ]
        }
      ],
      "source": [
        "ones=np.ones((2,2,3))\n",
        "print(ones)"
      ]
    },
    {
      "cell_type": "code",
      "execution_count": null,
      "metadata": {
        "colab": {
          "base_uri": "https://localhost:8080/"
        },
        "id": "caTHvIE-tOkJ",
        "outputId": "43dd01f6-5972-4b0c-d344-248d7c1ee341"
      },
      "outputs": [
        {
          "name": "stdout",
          "output_type": "stream",
          "text": [
            "[[[2 2 2]\n",
            "  [2 2 2]]\n",
            "\n",
            " [[2 2 2]\n",
            "  [2 2 2]]]\n"
          ]
        }
      ],
      "source": [
        "twos=np.full((2,2,3),2)\n",
        "print(twos)"
      ]
    },
    {
      "cell_type": "code",
      "execution_count": null,
      "metadata": {
        "colab": {
          "base_uri": "https://localhost:8080/"
        },
        "id": "5aqrV-k6tWIA",
        "outputId": "d9d487a3-0c3c-464f-f80a-22f1bc39a0c2"
      },
      "outputs": [
        {
          "name": "stdout",
          "output_type": "stream",
          "text": [
            "[0 2 4 6 8]\n"
          ]
        }
      ],
      "source": [
        "arrange=np.arange(0,10,2)\n",
        "print(arrange)"
      ]
    },
    {
      "cell_type": "markdown",
      "metadata": {
        "id": "Bwa-fJ4Ytx-Q"
      },
      "source": [
        "arrange er kaj hosse ata 0 theke 10 porjonto jabe gap thakbe 2 karon last er number thakbe gap"
      ]
    },
    {
      "cell_type": "code",
      "execution_count": null,
      "metadata": {
        "colab": {
          "base_uri": "https://localhost:8080/"
        },
        "id": "xUvKc9uBtwIY",
        "outputId": "32df9d09-ebe8-4cb5-d640-d91354fc7c65"
      },
      "outputs": [
        {
          "name": "stdout",
          "output_type": "stream",
          "text": [
            "[ 3  5  7  9 11 13 15 17 19]\n"
          ]
        }
      ],
      "source": [
        "arrange=np.arange(3,20,2)\n",
        "print(arrange)"
      ]
    },
    {
      "cell_type": "markdown",
      "metadata": {
        "id": "llhMUmi0ubZy"
      },
      "source": [
        "linspace er kaj hosse vag korte hbe, last a 5 ty 10 k 5 vag a vag kora hoyese"
      ]
    },
    {
      "cell_type": "code",
      "execution_count": null,
      "metadata": {
        "colab": {
          "base_uri": "https://localhost:8080/"
        },
        "id": "vcViqqimuTFB",
        "outputId": "e85e0b6c-e59c-4dd8-8f73-7e4f750f7dec"
      },
      "outputs": [
        {
          "name": "stdout",
          "output_type": "stream",
          "text": [
            "[ 0.   2.5  5.   7.5 10. ]\n"
          ]
        }
      ],
      "source": [
        "linspace=np.linspace(0,10,5)\n",
        "print(linspace)"
      ]
    },
    {
      "cell_type": "markdown",
      "metadata": {
        "id": "OLFc8hlfwOwC"
      },
      "source": [
        "arr er kaj hosse jkhn 0 dibo tkhn 1 st ta print debe r -1 mane ses er ta"
      ]
    },
    {
      "cell_type": "code",
      "execution_count": null,
      "metadata": {
        "colab": {
          "base_uri": "https://localhost:8080/"
        },
        "id": "lBAPf2wHvS8h",
        "outputId": "3221c4a8-d1d7-4128-82f4-b15af9fdfa87"
      },
      "outputs": [
        {
          "name": "stdout",
          "output_type": "stream",
          "text": [
            "1\n",
            "5\n",
            "3\n",
            "4\n"
          ]
        }
      ],
      "source": [
        "arr=np.array([1,2,3,4,5])\n",
        "print(arr[0])\n",
        "print(arr[-1])\n",
        "print(arr[2])\n",
        "print(arr[-2])"
      ]
    },
    {
      "cell_type": "code",
      "execution_count": null,
      "metadata": {
        "colab": {
          "base_uri": "https://localhost:8080/"
        },
        "id": "fMDf0V0dwZPq",
        "outputId": "c26ba30d-cecf-49da-d7aa-6f021f8548a3"
      },
      "outputs": [
        {
          "name": "stdout",
          "output_type": "stream",
          "text": [
            "1\n",
            "2\n",
            "3\n",
            "[3 4]\n"
          ]
        }
      ],
      "source": [
        "arr_2d=np.array([[1,2,3],[4,5,6],[1,4,3]])\n",
        "print(arr_2d[0,0])\n",
        "print(arr_2d[0,1])\n",
        "print(arr_2d[2,2])\n",
        "print(arr[2:4,])"
      ]
    },
    {
      "cell_type": "code",
      "execution_count": null,
      "metadata": {
        "id": "ZVklp_e75A4A"
      },
      "outputs": [],
      "source": []
    },
    {
      "cell_type": "code",
      "execution_count": null,
      "metadata": {
        "colab": {
          "base_uri": "https://localhost:8080/"
        },
        "id": "HeC7MZpl5-eW",
        "outputId": "5746f5c6-f271-4db3-aa8e-ef2b39218c63"
      },
      "outputs": [
        {
          "name": "stdout",
          "output_type": "stream",
          "text": [
            "2\n",
            "[[1]\n",
            " [4]\n",
            " [7]]\n",
            "[]\n"
          ]
        }
      ],
      "source": [
        "arr_2d=np.array([[1,2,3],[4,5,6],[7,8,9]])\n",
        "print(arr_2d[0,1])\n",
        "print(arr_2d[:,0:1])\n",
        "print(arr_2d[1:0])"
      ]
    },
    {
      "cell_type": "code",
      "execution_count": null,
      "metadata": {
        "colab": {
          "base_uri": "https://localhost:8080/"
        },
        "id": "yVWGdQwk8Ars",
        "outputId": "bc42c9f7-8244-45d3-9798-71b20205b18f"
      },
      "outputs": [
        {
          "name": "stdout",
          "output_type": "stream",
          "text": [
            "[ 7  9 11 13 15]\n",
            "[-5 -5 -5 -5 -5]\n",
            "[ 6 14 24 36 50]\n",
            "[0.16666667 0.28571429 0.375      0.44444444 0.5       ]\n",
            "[5 6 7 8 9] [3 4 5 6 7]\n"
          ]
        }
      ],
      "source": [
        "arr1=np.array([1,2,3,4,5])\n",
        "arr2=np.array([6,7,8,9,10])\n",
        "print(arr1+arr2)\n",
        "print(arr1-arr2)\n",
        "print(arr1*arr2)\n",
        "print(arr1/arr2)\n",
        "print(arr1+4,arr2-3)"
      ]
    },
    {
      "cell_type": "code",
      "execution_count": null,
      "metadata": {
        "colab": {
          "base_uri": "https://localhost:8080/"
        },
        "id": "-xB1uCj-90tB",
        "outputId": "547b2d0e-9274-4275-ee89-0e72b55130c3"
      },
      "outputs": [
        {
          "name": "stdout",
          "output_type": "stream",
          "text": [
            "[[19 22]\n",
            " [43 50]]\n"
          ]
        }
      ],
      "source": [
        "arr1=np.array([[1,2],[3,4,]])\n",
        "arr2=np.array([[5,6],[7,8]])\n",
        "print(np.dot(arr1,arr2))"
      ]
    },
    {
      "cell_type": "code",
      "execution_count": null,
      "metadata": {
        "colab": {
          "base_uri": "https://localhost:8080/"
        },
        "id": "cvtxcewiAAwp",
        "outputId": "b057baa2-7260-46fa-8f00-80ab66b8e0ce"
      },
      "outputs": [
        {
          "name": "stdout",
          "output_type": "stream",
          "text": [
            "15\n",
            "3.0\n",
            "3.0\n",
            "1.4142135623730951\n"
          ]
        }
      ],
      "source": [
        "arr=np.array([1,2,3,4,5])\n",
        "print(np.sum(arr))\n",
        "print(np.mean(arr))\n",
        "print(np.median(arr))\n",
        "print(np.std(arr))"
      ]
    },
    {
      "cell_type": "markdown",
      "metadata": {
        "id": "owBAGY2VApL5"
      },
      "source": [
        "mean mane গড়, stg mane vag\n",
        "sum mane jog::r"
      ]
    },
    {
      "cell_type": "code",
      "execution_count": null,
      "metadata": {
        "colab": {
          "base_uri": "https://localhost:8080/"
        },
        "id": "efyARa1IA8lJ",
        "outputId": "bb3ffb24-2828-4ceb-d375-2b0a891d57ca"
      },
      "outputs": [
        {
          "name": "stdout",
          "output_type": "stream",
          "text": [
            "[ 1  2  3  4  5  6  7  8  9 10 11 12]\n",
            "[[ 1  2  3  4]\n",
            " [ 5  6  7  8]\n",
            " [ 9 10 11 12]]\n",
            "[[ 1  2  3]\n",
            " [ 4  5  6]\n",
            " [ 7  8  9]\n",
            " [10 11 12]]\n"
          ]
        }
      ],
      "source": [
        "arr=np.arange(1,13)\n",
        "arr_reshaped=arr.reshape(3,4)\n",
        "arr_reshaped_2=arr.reshape(4,3)\n",
        "print(arr)\n",
        "print(arr_reshaped)\n",
        "print(arr_reshaped_2)"
      ]
    },
    {
      "cell_type": "code",
      "execution_count": null,
      "metadata": {
        "colab": {
          "base_uri": "https://localhost:8080/",
          "height": 245
        },
        "id": "FFF2Gg1qEX_Y",
        "outputId": "f7a09055-23b8-4dd3-f6bf-6bee3acf2cc7"
      },
      "outputs": [
        {
          "name": "stdout",
          "output_type": "stream",
          "text": [
            "[[1 2]\n",
            " [3 4]\n",
            " [5 6]]\n"
          ]
        },
        {
          "ename": "ValueError",
          "evalue": "all the input array dimensions except for the concatenation axis must match exactly, but along dimension 0, the array at index 0 has size 2 and the array at index 1 has size 1",
          "output_type": "error",
          "traceback": [
            "\u001b[0;31m---------------------------------------------------------------------------\u001b[0m",
            "\u001b[0;31mValueError\u001b[0m                                Traceback (most recent call last)",
            "\u001b[0;32m<ipython-input-74-6455ea27083a>\u001b[0m in \u001b[0;36m<cell line: 4>\u001b[0;34m()\u001b[0m\n\u001b[1;32m      2\u001b[0m \u001b[0marr2\u001b[0m\u001b[0;34m=\u001b[0m\u001b[0mnp\u001b[0m\u001b[0;34m.\u001b[0m\u001b[0marray\u001b[0m\u001b[0;34m(\u001b[0m\u001b[0;34m[\u001b[0m\u001b[0;34m[\u001b[0m\u001b[0;36m5\u001b[0m\u001b[0;34m,\u001b[0m\u001b[0;36m6\u001b[0m\u001b[0;34m]\u001b[0m\u001b[0;34m]\u001b[0m\u001b[0;34m)\u001b[0m\u001b[0;34m\u001b[0m\u001b[0;34m\u001b[0m\u001b[0m\n\u001b[1;32m      3\u001b[0m \u001b[0mprint\u001b[0m\u001b[0;34m(\u001b[0m\u001b[0mnp\u001b[0m\u001b[0;34m.\u001b[0m\u001b[0mconcatenate\u001b[0m\u001b[0;34m(\u001b[0m\u001b[0;34m(\u001b[0m\u001b[0marr1\u001b[0m\u001b[0;34m,\u001b[0m\u001b[0marr2\u001b[0m\u001b[0;34m)\u001b[0m\u001b[0;34m,\u001b[0m\u001b[0maxis\u001b[0m\u001b[0;34m=\u001b[0m\u001b[0;36m0\u001b[0m\u001b[0;34m)\u001b[0m\u001b[0;34m)\u001b[0m\u001b[0;34m\u001b[0m\u001b[0;34m\u001b[0m\u001b[0m\n\u001b[0;32m----> 4\u001b[0;31m \u001b[0mprint\u001b[0m\u001b[0;34m(\u001b[0m\u001b[0mnp\u001b[0m\u001b[0;34m.\u001b[0m\u001b[0mconcatenate\u001b[0m\u001b[0;34m(\u001b[0m\u001b[0;34m(\u001b[0m\u001b[0marr1\u001b[0m\u001b[0;34m,\u001b[0m\u001b[0marr2\u001b[0m\u001b[0;34m)\u001b[0m\u001b[0;34m,\u001b[0m\u001b[0maxis\u001b[0m\u001b[0;34m=\u001b[0m\u001b[0;36m1\u001b[0m\u001b[0;34m)\u001b[0m\u001b[0;34m)\u001b[0m\u001b[0;34m\u001b[0m\u001b[0;34m\u001b[0m\u001b[0m\n\u001b[0m",
            "\u001b[0;31mValueError\u001b[0m: all the input array dimensions except for the concatenation axis must match exactly, but along dimension 0, the array at index 0 has size 2 and the array at index 1 has size 1"
          ]
        }
      ],
      "source": [
        "arr1=np.array([[1,2],[3,4]])\n",
        "arr2=np.array([[5,6]])\n",
        "print(np.concatenate((arr1,arr2),axis=0))\n",
        "print(np.concatenate((arr1,arr2),axis=1))"
      ]
    },
    {
      "cell_type": "markdown",
      "metadata": {
        "id": "hUEYIs0SvBCE"
      },
      "source": [
        "Excel import korte hbe\n",
        "যদি A:C দেয় তবে A ধেকে C পযন্ত আসবে।"
      ]
    },
    {
      "cell_type": "code",
      "execution_count": null,
      "metadata": {
        "colab": {
          "background_save": true,
          "base_uri": "https://localhost:8080/",
          "height": 38
        },
        "id": "0QpZY7wCjmcn",
        "outputId": "eecd1795-681e-49a9-8314-74679d65bb73"
      },
      "outputs": [
        {
          "data": {
            "text/html": [
              "\n",
              "     <input type=\"file\" id=\"files-f1a69ed0-bbe3-4dfb-a1b4-06deaccb3db9\" name=\"files[]\" multiple disabled\n",
              "        style=\"border:none\" />\n",
              "     <output id=\"result-f1a69ed0-bbe3-4dfb-a1b4-06deaccb3db9\">\n",
              "      Upload widget is only available when the cell has been executed in the\n",
              "      current browser session. Please rerun this cell to enable.\n",
              "      </output>\n",
              "      <script>// Copyright 2017 Google LLC\n",
              "//\n",
              "// Licensed under the Apache License, Version 2.0 (the \"License\");\n",
              "// you may not use this file except in compliance with the License.\n",
              "// You may obtain a copy of the License at\n",
              "//\n",
              "//      http://www.apache.org/licenses/LICENSE-2.0\n",
              "//\n",
              "// Unless required by applicable law or agreed to in writing, software\n",
              "// distributed under the License is distributed on an \"AS IS\" BASIS,\n",
              "// WITHOUT WARRANTIES OR CONDITIONS OF ANY KIND, either express or implied.\n",
              "// See the License for the specific language governing permissions and\n",
              "// limitations under the License.\n",
              "\n",
              "/**\n",
              " * @fileoverview Helpers for google.colab Python module.\n",
              " */\n",
              "(function(scope) {\n",
              "function span(text, styleAttributes = {}) {\n",
              "  const element = document.createElement('span');\n",
              "  element.textContent = text;\n",
              "  for (const key of Object.keys(styleAttributes)) {\n",
              "    element.style[key] = styleAttributes[key];\n",
              "  }\n",
              "  return element;\n",
              "}\n",
              "\n",
              "// Max number of bytes which will be uploaded at a time.\n",
              "const MAX_PAYLOAD_SIZE = 100 * 1024;\n",
              "\n",
              "function _uploadFiles(inputId, outputId) {\n",
              "  const steps = uploadFilesStep(inputId, outputId);\n",
              "  const outputElement = document.getElementById(outputId);\n",
              "  // Cache steps on the outputElement to make it available for the next call\n",
              "  // to uploadFilesContinue from Python.\n",
              "  outputElement.steps = steps;\n",
              "\n",
              "  return _uploadFilesContinue(outputId);\n",
              "}\n",
              "\n",
              "// This is roughly an async generator (not supported in the browser yet),\n",
              "// where there are multiple asynchronous steps and the Python side is going\n",
              "// to poll for completion of each step.\n",
              "// This uses a Promise to block the python side on completion of each step,\n",
              "// then passes the result of the previous step as the input to the next step.\n",
              "function _uploadFilesContinue(outputId) {\n",
              "  const outputElement = document.getElementById(outputId);\n",
              "  const steps = outputElement.steps;\n",
              "\n",
              "  const next = steps.next(outputElement.lastPromiseValue);\n",
              "  return Promise.resolve(next.value.promise).then((value) => {\n",
              "    // Cache the last promise value to make it available to the next\n",
              "    // step of the generator.\n",
              "    outputElement.lastPromiseValue = value;\n",
              "    return next.value.response;\n",
              "  });\n",
              "}\n",
              "\n",
              "/**\n",
              " * Generator function which is called between each async step of the upload\n",
              " * process.\n",
              " * @param {string} inputId Element ID of the input file picker element.\n",
              " * @param {string} outputId Element ID of the output display.\n",
              " * @return {!Iterable<!Object>} Iterable of next steps.\n",
              " */\n",
              "function* uploadFilesStep(inputId, outputId) {\n",
              "  const inputElement = document.getElementById(inputId);\n",
              "  inputElement.disabled = false;\n",
              "\n",
              "  const outputElement = document.getElementById(outputId);\n",
              "  outputElement.innerHTML = '';\n",
              "\n",
              "  const pickedPromise = new Promise((resolve) => {\n",
              "    inputElement.addEventListener('change', (e) => {\n",
              "      resolve(e.target.files);\n",
              "    });\n",
              "  });\n",
              "\n",
              "  const cancel = document.createElement('button');\n",
              "  inputElement.parentElement.appendChild(cancel);\n",
              "  cancel.textContent = 'Cancel upload';\n",
              "  const cancelPromise = new Promise((resolve) => {\n",
              "    cancel.onclick = () => {\n",
              "      resolve(null);\n",
              "    };\n",
              "  });\n",
              "\n",
              "  // Wait for the user to pick the files.\n",
              "  const files = yield {\n",
              "    promise: Promise.race([pickedPromise, cancelPromise]),\n",
              "    response: {\n",
              "      action: 'starting',\n",
              "    }\n",
              "  };\n",
              "\n",
              "  cancel.remove();\n",
              "\n",
              "  // Disable the input element since further picks are not allowed.\n",
              "  inputElement.disabled = true;\n",
              "\n",
              "  if (!files) {\n",
              "    return {\n",
              "      response: {\n",
              "        action: 'complete',\n",
              "      }\n",
              "    };\n",
              "  }\n",
              "\n",
              "  for (const file of files) {\n",
              "    const li = document.createElement('li');\n",
              "    li.append(span(file.name, {fontWeight: 'bold'}));\n",
              "    li.append(span(\n",
              "        `(${file.type || 'n/a'}) - ${file.size} bytes, ` +\n",
              "        `last modified: ${\n",
              "            file.lastModifiedDate ? file.lastModifiedDate.toLocaleDateString() :\n",
              "                                    'n/a'} - `));\n",
              "    const percent = span('0% done');\n",
              "    li.appendChild(percent);\n",
              "\n",
              "    outputElement.appendChild(li);\n",
              "\n",
              "    const fileDataPromise = new Promise((resolve) => {\n",
              "      const reader = new FileReader();\n",
              "      reader.onload = (e) => {\n",
              "        resolve(e.target.result);\n",
              "      };\n",
              "      reader.readAsArrayBuffer(file);\n",
              "    });\n",
              "    // Wait for the data to be ready.\n",
              "    let fileData = yield {\n",
              "      promise: fileDataPromise,\n",
              "      response: {\n",
              "        action: 'continue',\n",
              "      }\n",
              "    };\n",
              "\n",
              "    // Use a chunked sending to avoid message size limits. See b/62115660.\n",
              "    let position = 0;\n",
              "    do {\n",
              "      const length = Math.min(fileData.byteLength - position, MAX_PAYLOAD_SIZE);\n",
              "      const chunk = new Uint8Array(fileData, position, length);\n",
              "      position += length;\n",
              "\n",
              "      const base64 = btoa(String.fromCharCode.apply(null, chunk));\n",
              "      yield {\n",
              "        response: {\n",
              "          action: 'append',\n",
              "          file: file.name,\n",
              "          data: base64,\n",
              "        },\n",
              "      };\n",
              "\n",
              "      let percentDone = fileData.byteLength === 0 ?\n",
              "          100 :\n",
              "          Math.round((position / fileData.byteLength) * 100);\n",
              "      percent.textContent = `${percentDone}% done`;\n",
              "\n",
              "    } while (position < fileData.byteLength);\n",
              "  }\n",
              "\n",
              "  // All done.\n",
              "  yield {\n",
              "    response: {\n",
              "      action: 'complete',\n",
              "    }\n",
              "  };\n",
              "}\n",
              "\n",
              "scope.google = scope.google || {};\n",
              "scope.google.colab = scope.google.colab || {};\n",
              "scope.google.colab._files = {\n",
              "  _uploadFiles,\n",
              "  _uploadFilesContinue,\n",
              "};\n",
              "})(self);\n",
              "</script> "
            ],
            "text/plain": [
              "<IPython.core.display.HTML object>"
            ]
          },
          "metadata": {},
          "output_type": "display_data"
        }
      ],
      "source": [
        "import pandas as pd\n",
        "from google.colab import files\n",
        "uploaded=files.upload()\n",
        "\n",
        "df_1= pd.read_excel(\"ABC.xlsx\",sheet_name=\"Sheet1\")\n",
        "\n",
        "print(df_1.head())\n",
        "\n",
        "df_2=pd.read_excel(\"ABC.xlsx\",sheet_name=\"Sheet2\",usecols=\"A,C,D\")\n",
        "print(df_2.head())\n",
        "\n"
      ]
    },
    {
      "cell_type": "markdown",
      "metadata": {
        "id": "dCqSb0Lrw9Sm"
      },
      "source": [
        "Missing Value\n",
        "jody print(df_1.head()) dewa hoi tobe se 1st 1 ta data print diye debe\n"
      ]
    },
    {
      "cell_type": "code",
      "execution_count": null,
      "metadata": {
        "colab": {
          "base_uri": "https://localhost:8080/"
        },
        "id": "crNwmjl1xD_e",
        "outputId": "27151b68-5a40-4ced-eeb1-dd1bd2dc0e1c"
      },
      "outputs": [
        {
          "name": "stdout",
          "output_type": "stream",
          "text": [
            "39.666666666666664\n",
            "      Name        Age  Income\n",
            "0    Alice  25.000000   50000\n",
            "1      Bob  39.666667   30000\n",
            "2  Charlie  46.000000   42000\n",
            "3    Mithu  35.000000   62000\n",
            "4     Akhi  75.000000   42000\n"
          ]
        }
      ],
      "source": [
        "mean_age=df_1[\"Age\"].mean()\n",
        "print(mean_age)\n",
        "\n",
        "df_1[\"Age\"]=df_1[\"Age\"].fillna(mean_age)\n",
        "print(df_1.head())"
      ]
    },
    {
      "cell_type": "code",
      "execution_count": null,
      "metadata": {
        "colab": {
          "base_uri": "https://localhost:8080/"
        },
        "id": "ESnS24qX3LVT",
        "outputId": "f9039c78-22b5-436d-87b3-599b63f40474"
      },
      "outputs": [
        {
          "ename": "NameError",
          "evalue": "name 'df_1' is not defined",
          "output_type": "error",
          "traceback": [
            "\u001b[0;31m---------------------------------------------------------------------------\u001b[0m",
            "\u001b[0;31mNameError\u001b[0m                                 Traceback (most recent call last)",
            "\u001b[0;32m<ipython-input-4-850eeb44fda6>\u001b[0m in \u001b[0;36m<cell line: 3>\u001b[0;34m()\u001b[0m\n\u001b[1;32m      1\u001b[0m \u001b[0;32mimport\u001b[0m \u001b[0mmatplotlib\u001b[0m\u001b[0;34m.\u001b[0m\u001b[0mpyplot\u001b[0m \u001b[0;32mas\u001b[0m \u001b[0mplt\u001b[0m\u001b[0;34m\u001b[0m\u001b[0;34m\u001b[0m\u001b[0m\n\u001b[1;32m      2\u001b[0m \u001b[0;32mimport\u001b[0m \u001b[0mnumpy\u001b[0m \u001b[0;32mas\u001b[0m \u001b[0mnp\u001b[0m\u001b[0;34m\u001b[0m\u001b[0;34m\u001b[0m\u001b[0m\n\u001b[0;32m----> 3\u001b[0;31m \u001b[0mdf\u001b[0m\u001b[0;34m=\u001b[0m\u001b[0mdf_1\u001b[0m\u001b[0;34m\u001b[0m\u001b[0;34m\u001b[0m\u001b[0m\n\u001b[0m\u001b[1;32m      4\u001b[0m \u001b[0;31m#Line plot\u001b[0m\u001b[0;34m\u001b[0m\u001b[0;34m\u001b[0m\u001b[0m\n\u001b[1;32m      5\u001b[0m \u001b[0mplt\u001b[0m\u001b[0;34m.\u001b[0m\u001b[0mfigure\u001b[0m\u001b[0;34m(\u001b[0m\u001b[0mfigsize\u001b[0m\u001b[0;34m=\u001b[0m\u001b[0;34m(\u001b[0m\u001b[0;36m10\u001b[0m\u001b[0;34m,\u001b[0m\u001b[0;36m5\u001b[0m\u001b[0;34m)\u001b[0m\u001b[0;34m)\u001b[0m\u001b[0;34m\u001b[0m\u001b[0;34m\u001b[0m\u001b[0m\n",
            "\u001b[0;31mNameError\u001b[0m: name 'df_1' is not defined"
          ]
        }
      ],
      "source": [
        "import matplotlib.pyplot as plt\n",
        "import numpy as np\n",
        "df=df_1\n",
        "#Line plot\n",
        "plt.figure(figsize=(10,5))\n",
        "plt.plot(df[\"Age\"], df[\"Income\"],color=\"orange\",marker=\"o\")\n",
        "plt.xticks(np.arange(10, 80, step=5))\n",
        "plt.title(\"Income vs Age \")\n",
        "plt.xlabel(\"Age\")\n",
        "plt.ylabel(\"Income\")\n",
        "plt.show()\n"
      ]
    },
    {
      "cell_type": "code",
      "execution_count": null,
      "metadata": {
        "colab": {
          "base_uri": "https://localhost:8080/"
        },
        "id": "wqNkmaWHCXmK",
        "outputId": "b4c5a368-36eb-4d0e-d16a-1930cafc13db"
      },
      "outputs": [
        {
          "ename": "NameError",
          "evalue": "name 'df_2' is not defined",
          "output_type": "error",
          "traceback": [
            "\u001b[0;31m---------------------------------------------------------------------------\u001b[0m",
            "\u001b[0;31mNameError\u001b[0m                                 Traceback (most recent call last)",
            "\u001b[0;32m<ipython-input-3-861fd2e801e2>\u001b[0m in \u001b[0;36m<cell line: 4>\u001b[0;34m()\u001b[0m\n\u001b[1;32m      2\u001b[0m \u001b[0;34m\u001b[0m\u001b[0m\n\u001b[1;32m      3\u001b[0m \u001b[0mplt\u001b[0m\u001b[0;34m.\u001b[0m\u001b[0mfigure\u001b[0m\u001b[0;34m(\u001b[0m\u001b[0mfigsize\u001b[0m\u001b[0;34m=\u001b[0m\u001b[0;34m(\u001b[0m\u001b[0;36m10\u001b[0m\u001b[0;34m,\u001b[0m\u001b[0;36m5\u001b[0m\u001b[0;34m)\u001b[0m\u001b[0;34m)\u001b[0m\u001b[0;34m\u001b[0m\u001b[0;34m\u001b[0m\u001b[0m\n\u001b[0;32m----> 4\u001b[0;31m \u001b[0mplt\u001b[0m\u001b[0;34m.\u001b[0m\u001b[0mbar\u001b[0m\u001b[0;34m(\u001b[0m\u001b[0mdf_2\u001b[0m\u001b[0;34m[\u001b[0m\u001b[0;34m\"City\"\u001b[0m\u001b[0;34m]\u001b[0m\u001b[0;34m,\u001b[0m\u001b[0mdf_2\u001b[0m\u001b[0;34m[\u001b[0m\u001b[0;34m\"Income\"\u001b[0m\u001b[0;34m]\u001b[0m\u001b[0;34m,\u001b[0m \u001b[0mcolor\u001b[0m\u001b[0;34m=\u001b[0m\u001b[0;34m\"blue\"\u001b[0m\u001b[0;34m)\u001b[0m\u001b[0;34m\u001b[0m\u001b[0;34m\u001b[0m\u001b[0m\n\u001b[0m\u001b[1;32m      5\u001b[0m \u001b[0mplt\u001b[0m\u001b[0;34m.\u001b[0m\u001b[0mtitle\u001b[0m\u001b[0;34m(\u001b[0m\u001b[0;34m\"Amount by category\"\u001b[0m\u001b[0;34m)\u001b[0m\u001b[0;34m\u001b[0m\u001b[0;34m\u001b[0m\u001b[0m\n\u001b[1;32m      6\u001b[0m \u001b[0mplt\u001b[0m\u001b[0;34m.\u001b[0m\u001b[0mxlabel\u001b[0m\u001b[0;34m(\u001b[0m\u001b[0;34m\"City\"\u001b[0m\u001b[0;34m)\u001b[0m\u001b[0;34m\u001b[0m\u001b[0;34m\u001b[0m\u001b[0m\n",
            "\u001b[0;31mNameError\u001b[0m: name 'df_2' is not defined"
          ]
        },
        {
          "data": {
            "text/plain": [
              "<Figure size 1000x500 with 0 Axes>"
            ]
          },
          "metadata": {},
          "output_type": "display_data"
        }
      ],
      "source": [
        "#Bar chart\n",
        "\n",
        "plt.figure(figsize=(10,5))\n",
        "plt.bar(df_2[\"City\"],df_2[\"Income\"], color=\"blue\")\n",
        "plt.title(\"Amount by category\")\n",
        "plt.xlabel(\"City\")\n",
        "plt.ylabel(\"Amount\")\n",
        "plt.show()"
      ]
    },
    {
      "cell_type": "code",
      "execution_count": null,
      "metadata": {
        "id": "-zNsno-qp1kx"
      },
      "outputs": [],
      "source": []
    },
    {
      "cell_type": "code",
      "execution_count": null,
      "metadata": {
        "id": "tr8lNmmq03CA"
      },
      "outputs": [],
      "source": [
        "import pandas as pd\n",
        "from google.colab import files\n",
        "uploaded=files.upload()\n",
        "\n",
        "df_1= pd.read_excel(\"Titanic.xlsx\",sheet_name=\"Sheet1\")\n",
        "\n",
        "print(df_1.head())\n",
        "\n",
        "df_2=pd.read_excel(\"Titanic.xlsx\",sheet_name=\"Sheet2\",usecols=\"A,C,D\")\n",
        "print(df_2.head())"
      ]
    },
    {
      "cell_type": "code",
      "execution_count": null,
      "metadata": {
        "id": "VGmi2OAO1H8x"
      },
      "outputs": [],
      "source": [
        "\n",
        "from google.colab import files\n",
        "uploaded=files.upload()"
      ]
    }
  ],
  "metadata": {
    "colab": {
      "provenance": [],
      "authorship_tag": "ABX9TyOwMdWltMFbowKE9hC+TUvx",
      "include_colab_link": true
    },
    "kernelspec": {
      "display_name": "Python 3",
      "name": "python3"
    },
    "language_info": {
      "name": "python"
    }
  },
  "nbformat": 4,
  "nbformat_minor": 0
}